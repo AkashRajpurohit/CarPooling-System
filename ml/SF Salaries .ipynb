{
 "cells": [
  {
   "cell_type": "markdown",
   "metadata": {},
   "source": [
    "# Supervised Learning:  The Waze Carpool - SF Pilot\n",
    "- In this project, I'm trying to build machine learning models based on Kaggle and SMFTA's data: I came up with WAZE Rider San Francisco Pilot to study features of a carpool modelling and make prdedictions that could help the business.\n",
    "Waze is going the corporate route. The pilot is starting with more than 25,000 employees of select companies that schlep workers from city.\n",
    "\n",
    "Income: information about total pay, total pay benefits and overtime pay for San Francisco residents"
   ]
  },
  {
   "cell_type": "code",
   "execution_count": 1,
   "metadata": {
    "collapsed": false
   },
   "outputs": [],
   "source": [
    "import os\n",
    "import numpy as np\n",
    "import pandas as pd\n",
    "import sqlite3\n",
    "import matplotlib.pyplot as plt\n",
    "import statsmodels.api as sm\n",
    "import statsmodels.formula.api as smf\n",
    "import seaborn as sns\n",
    "from sklearn import linear_model, cross_validation\n",
    "from sklearn import tree, ensemble, metrics, cross_validation, externals\n",
    "\n",
    "pd.set_option('display.max_rows', 10)\n",
    "pd.set_option('display.notebook_repr_html', True)\n",
    "pd.set_option('display.max_columns', 10)\n",
    "\n",
    "%matplotlib inline\n",
    "plt.style.use('ggplot')"
   ]
  },
  {
   "cell_type": "code",
   "execution_count": 2,
   "metadata": {
    "collapsed": false
   },
   "outputs": [
    {
     "name": "stderr",
     "output_type": "stream",
     "text": [
      "//anaconda/lib/python2.7/site-packages/IPython/core/interactiveshell.py:2825: DtypeWarning: Columns (3,4,5,6,12) have mixed types. Specify dtype option on import or set low_memory=False.\n",
      "  if self.run_code(code, result):\n"
     ]
    }
   ],
   "source": [
    "def read_dataset():\n",
    "    return pd.read_csv(os.path.join('..', 'FinalProject-GA', 'Salaries.csv'))\n",
    "\n",
    "df = read_dataset()"
   ]
  },
  {
   "cell_type": "code",
   "execution_count": 3,
   "metadata": {
    "collapsed": false
   },
   "outputs": [
    {
     "name": "stderr",
     "output_type": "stream",
     "text": [
      "//anaconda/lib/python2.7/site-packages/IPython/core/interactiveshell.py:2723: DtypeWarning: Columns (3,4,5,6,12) have mixed types. Specify dtype option on import or set low_memory=False.\n",
      "  interactivity=interactivity, compiler=compiler, result=result)\n"
     ]
    }
   ],
   "source": [
    "df = pd.read_csv(os.path.join('..', 'FinalProject-GA', 'Salaries.csv'))"
   ]
  },
  {
   "cell_type": "markdown",
   "metadata": {},
   "source": [
    "## The Dataset"
   ]
  },
  {
   "cell_type": "code",
   "execution_count": 4,
   "metadata": {
    "collapsed": false
   },
   "outputs": [
    {
     "data": {
      "text/html": [
       "<div>\n",
       "<table border=\"1\" class=\"dataframe\">\n",
       "  <thead>\n",
       "    <tr style=\"text-align: right;\">\n",
       "      <th></th>\n",
       "      <th>Id</th>\n",
       "      <th>EmployeeName</th>\n",
       "      <th>JobTitle</th>\n",
       "      <th>BasePay</th>\n",
       "      <th>OvertimePay</th>\n",
       "      <th>...</th>\n",
       "      <th>TotalPayBenefits</th>\n",
       "      <th>Year</th>\n",
       "      <th>Notes</th>\n",
       "      <th>Agency</th>\n",
       "      <th>Status</th>\n",
       "    </tr>\n",
       "  </thead>\n",
       "  <tbody>\n",
       "    <tr>\n",
       "      <th>0</th>\n",
       "      <td>1</td>\n",
       "      <td>NATHANIEL FORD</td>\n",
       "      <td>GENERAL MANAGER-METROPOLITAN TRANSIT AUTHORITY</td>\n",
       "      <td>167411</td>\n",
       "      <td>0</td>\n",
       "      <td>...</td>\n",
       "      <td>567595.43</td>\n",
       "      <td>2011</td>\n",
       "      <td>NaN</td>\n",
       "      <td>San Francisco</td>\n",
       "      <td>NaN</td>\n",
       "    </tr>\n",
       "    <tr>\n",
       "      <th>1</th>\n",
       "      <td>2</td>\n",
       "      <td>GARY JIMENEZ</td>\n",
       "      <td>CAPTAIN III (POLICE DEPARTMENT)</td>\n",
       "      <td>155966</td>\n",
       "      <td>245132</td>\n",
       "      <td>...</td>\n",
       "      <td>538909.28</td>\n",
       "      <td>2011</td>\n",
       "      <td>NaN</td>\n",
       "      <td>San Francisco</td>\n",
       "      <td>NaN</td>\n",
       "    </tr>\n",
       "    <tr>\n",
       "      <th>2</th>\n",
       "      <td>3</td>\n",
       "      <td>ALBERT PARDINI</td>\n",
       "      <td>CAPTAIN III (POLICE DEPARTMENT)</td>\n",
       "      <td>212739</td>\n",
       "      <td>106088</td>\n",
       "      <td>...</td>\n",
       "      <td>335279.91</td>\n",
       "      <td>2011</td>\n",
       "      <td>NaN</td>\n",
       "      <td>San Francisco</td>\n",
       "      <td>NaN</td>\n",
       "    </tr>\n",
       "    <tr>\n",
       "      <th>3</th>\n",
       "      <td>4</td>\n",
       "      <td>CHRISTOPHER CHONG</td>\n",
       "      <td>WIRE ROPE CABLE MAINTENANCE MECHANIC</td>\n",
       "      <td>77916</td>\n",
       "      <td>56120.7</td>\n",
       "      <td>...</td>\n",
       "      <td>332343.61</td>\n",
       "      <td>2011</td>\n",
       "      <td>NaN</td>\n",
       "      <td>San Francisco</td>\n",
       "      <td>NaN</td>\n",
       "    </tr>\n",
       "    <tr>\n",
       "      <th>4</th>\n",
       "      <td>5</td>\n",
       "      <td>PATRICK GARDNER</td>\n",
       "      <td>DEPUTY CHIEF OF DEPARTMENT,(FIRE DEPARTMENT)</td>\n",
       "      <td>134402</td>\n",
       "      <td>9737</td>\n",
       "      <td>...</td>\n",
       "      <td>326373.19</td>\n",
       "      <td>2011</td>\n",
       "      <td>NaN</td>\n",
       "      <td>San Francisco</td>\n",
       "      <td>NaN</td>\n",
       "    </tr>\n",
       "    <tr>\n",
       "      <th>...</th>\n",
       "      <td>...</td>\n",
       "      <td>...</td>\n",
       "      <td>...</td>\n",
       "      <td>...</td>\n",
       "      <td>...</td>\n",
       "      <td>...</td>\n",
       "      <td>...</td>\n",
       "      <td>...</td>\n",
       "      <td>...</td>\n",
       "      <td>...</td>\n",
       "      <td>...</td>\n",
       "    </tr>\n",
       "    <tr>\n",
       "      <th>148649</th>\n",
       "      <td>148650</td>\n",
       "      <td>Roy I Tillery</td>\n",
       "      <td>Custodian</td>\n",
       "      <td>0.00</td>\n",
       "      <td>0.00</td>\n",
       "      <td>...</td>\n",
       "      <td>0.00</td>\n",
       "      <td>2014</td>\n",
       "      <td>NaN</td>\n",
       "      <td>San Francisco</td>\n",
       "      <td>PT</td>\n",
       "    </tr>\n",
       "    <tr>\n",
       "      <th>148650</th>\n",
       "      <td>148651</td>\n",
       "      <td>Not provided</td>\n",
       "      <td>Not provided</td>\n",
       "      <td>Not Provided</td>\n",
       "      <td>Not Provided</td>\n",
       "      <td>...</td>\n",
       "      <td>0.00</td>\n",
       "      <td>2014</td>\n",
       "      <td>NaN</td>\n",
       "      <td>San Francisco</td>\n",
       "      <td>NaN</td>\n",
       "    </tr>\n",
       "    <tr>\n",
       "      <th>148651</th>\n",
       "      <td>148652</td>\n",
       "      <td>Not provided</td>\n",
       "      <td>Not provided</td>\n",
       "      <td>Not Provided</td>\n",
       "      <td>Not Provided</td>\n",
       "      <td>...</td>\n",
       "      <td>0.00</td>\n",
       "      <td>2014</td>\n",
       "      <td>NaN</td>\n",
       "      <td>San Francisco</td>\n",
       "      <td>NaN</td>\n",
       "    </tr>\n",
       "    <tr>\n",
       "      <th>148652</th>\n",
       "      <td>148653</td>\n",
       "      <td>Not provided</td>\n",
       "      <td>Not provided</td>\n",
       "      <td>Not Provided</td>\n",
       "      <td>Not Provided</td>\n",
       "      <td>...</td>\n",
       "      <td>0.00</td>\n",
       "      <td>2014</td>\n",
       "      <td>NaN</td>\n",
       "      <td>San Francisco</td>\n",
       "      <td>NaN</td>\n",
       "    </tr>\n",
       "    <tr>\n",
       "      <th>148653</th>\n",
       "      <td>148654</td>\n",
       "      <td>Joe Lopez</td>\n",
       "      <td>Counselor, Log Cabin Ranch</td>\n",
       "      <td>0.00</td>\n",
       "      <td>0.00</td>\n",
       "      <td>...</td>\n",
       "      <td>-618.13</td>\n",
       "      <td>2014</td>\n",
       "      <td>NaN</td>\n",
       "      <td>San Francisco</td>\n",
       "      <td>PT</td>\n",
       "    </tr>\n",
       "  </tbody>\n",
       "</table>\n",
       "<p>148654 rows × 13 columns</p>\n",
       "</div>"
      ],
      "text/plain": [
       "            Id       EmployeeName  \\\n",
       "0            1     NATHANIEL FORD   \n",
       "1            2       GARY JIMENEZ   \n",
       "2            3     ALBERT PARDINI   \n",
       "3            4  CHRISTOPHER CHONG   \n",
       "4            5    PATRICK GARDNER   \n",
       "...        ...                ...   \n",
       "148649  148650      Roy I Tillery   \n",
       "148650  148651       Not provided   \n",
       "148651  148652       Not provided   \n",
       "148652  148653       Not provided   \n",
       "148653  148654          Joe Lopez   \n",
       "\n",
       "                                              JobTitle       BasePay  \\\n",
       "0       GENERAL MANAGER-METROPOLITAN TRANSIT AUTHORITY        167411   \n",
       "1                      CAPTAIN III (POLICE DEPARTMENT)        155966   \n",
       "2                      CAPTAIN III (POLICE DEPARTMENT)        212739   \n",
       "3                 WIRE ROPE CABLE MAINTENANCE MECHANIC         77916   \n",
       "4         DEPUTY CHIEF OF DEPARTMENT,(FIRE DEPARTMENT)        134402   \n",
       "...                                                ...           ...   \n",
       "148649                                       Custodian          0.00   \n",
       "148650                                    Not provided  Not Provided   \n",
       "148651                                    Not provided  Not Provided   \n",
       "148652                                    Not provided  Not Provided   \n",
       "148653                      Counselor, Log Cabin Ranch          0.00   \n",
       "\n",
       "         OvertimePay   ...   TotalPayBenefits  Year  Notes         Agency  \\\n",
       "0                  0   ...          567595.43  2011    NaN  San Francisco   \n",
       "1             245132   ...          538909.28  2011    NaN  San Francisco   \n",
       "2             106088   ...          335279.91  2011    NaN  San Francisco   \n",
       "3            56120.7   ...          332343.61  2011    NaN  San Francisco   \n",
       "4               9737   ...          326373.19  2011    NaN  San Francisco   \n",
       "...              ...   ...                ...   ...    ...            ...   \n",
       "148649          0.00   ...               0.00  2014    NaN  San Francisco   \n",
       "148650  Not Provided   ...               0.00  2014    NaN  San Francisco   \n",
       "148651  Not Provided   ...               0.00  2014    NaN  San Francisco   \n",
       "148652  Not Provided   ...               0.00  2014    NaN  San Francisco   \n",
       "148653          0.00   ...            -618.13  2014    NaN  San Francisco   \n",
       "\n",
       "        Status  \n",
       "0          NaN  \n",
       "1          NaN  \n",
       "2          NaN  \n",
       "3          NaN  \n",
       "4          NaN  \n",
       "...        ...  \n",
       "148649      PT  \n",
       "148650     NaN  \n",
       "148651     NaN  \n",
       "148652     NaN  \n",
       "148653      PT  \n",
       "\n",
       "[148654 rows x 13 columns]"
      ]
     },
     "execution_count": 4,
     "metadata": {},
     "output_type": "execute_result"
    }
   ],
   "source": [
    "df"
   ]
  },
  {
   "cell_type": "raw",
   "metadata": {},
   "source": [
    "## Observations: 148,654\n",
    "## Variables: 13\n",
    "## $ Id               (int) 1, 2, 3, 4, 5, 6, 7, 8, 9, 10, 11, 12, 13, 14...\n",
    "## $ EmployeeName     (chr) \"NATHANIEL FORD\", \"GARY JIMENEZ\", \"ALBERT PAR...\n",
    "## $ JobTitle         (chr) \"GENERAL MANAGER-METROPOLITAN TRANSIT AUTHORI...\n",
    "## $ BasePay          (dbl) 167411.18, 155966.02, 212739.13, 77916.00, 13...\n",
    "## $ OvertimePay      (dbl) 0.00, 245131.88, 106088.18, 56120.71, 9737.00...\n",
    "## $ OtherPay         (dbl) 400184.25, 137811.38, 16452.60, 198306.90, 18...\n",
    "## $ Benefits         (chr) \"\", \"\", \"\", \"\", \"\", \"\", \"\", \"\", \"\", \"\", \"\", \"...\n",
    "## $ TotalPay         (dbl) 567595.4, 538909.3, 335279.9, 332343.6, 32637...\n",
    "## $ TotalPayBenefits (dbl) 567595.4, 538909.3, 335279.9, 332343.6, 32637...\n",
    "## $ Year             (int) 2011, 2011, 2011, 2011, 2011, 2011, 2011, 201...\n",
    "## $ Notes            (chr) \"\", \"\", \"\", \"\", \"\", \"\", \"\", \"\", \"\", \"\", \"\", \"...\n",
    "## $ Agency           (chr) \"San Francisco\", \"San Francisco\", \"San Franci...\n",
    "## $ Status           (chr) \"\", \"\", \"\", \"\", \"\", \"\", \"\", \"\", \"\", \"\", \"\", \"..."
   ]
  },
  {
   "cell_type": "markdown",
   "metadata": {},
   "source": [
    "# Data Cleaning and Transformation"
   ]
  },
  {
   "cell_type": "code",
   "execution_count": 5,
   "metadata": {
    "collapsed": false
   },
   "outputs": [
    {
     "data": {
      "text/plain": [
       "Index([u'Id', u'EmployeeName', u'JobTitle', u'BasePay', u'OvertimePay',\n",
       "       u'OtherPay', u'Benefits', u'TotalPay', u'TotalPayBenefits', u'Year',\n",
       "       u'Notes', u'Agency', u'Status'],\n",
       "      dtype='object')"
      ]
     },
     "execution_count": 5,
     "metadata": {},
     "output_type": "execute_result"
    }
   ],
   "source": [
    "df.columns"
   ]
  },
  {
   "cell_type": "code",
   "execution_count": 6,
   "metadata": {
    "collapsed": true
   },
   "outputs": [],
   "source": [
    "## Variables and Strings"
   ]
  },
  {
   "cell_type": "code",
   "execution_count": 7,
   "metadata": {
    "collapsed": false
   },
   "outputs": [
    {
     "data": {
      "text/plain": [
       "array([ nan])"
      ]
     },
     "execution_count": 7,
     "metadata": {},
     "output_type": "execute_result"
    }
   ],
   "source": [
    "##Dropping 'Notes' as the columns has no information\n",
    "df.Notes.unique()"
   ]
  },
  {
   "cell_type": "code",
   "execution_count": 8,
   "metadata": {
    "collapsed": false
   },
   "outputs": [],
   "source": [
    "df.drop('Notes', axis=1, inplace=True)"
   ]
  },
  {
   "cell_type": "code",
   "execution_count": 9,
   "metadata": {
    "collapsed": false
   },
   "outputs": [
    {
     "data": {
      "text/plain": [
       "array(['San Francisco'], dtype=object)"
      ]
     },
     "execution_count": 9,
     "metadata": {},
     "output_type": "execute_result"
    }
   ],
   "source": [
    "##Dropping 'Agency' as the columns are all the same location: San Francisco\n",
    "df.Agency.unique()"
   ]
  },
  {
   "cell_type": "code",
   "execution_count": 10,
   "metadata": {
    "collapsed": false
   },
   "outputs": [],
   "source": [
    "df.drop('Agency', axis=1, inplace=True)"
   ]
  },
  {
   "cell_type": "code",
   "execution_count": 11,
   "metadata": {
    "collapsed": false
   },
   "outputs": [
    {
     "data": {
      "text/plain": [
       "array([nan, 'PT', 'FT'], dtype=object)"
      ]
     },
     "execution_count": 11,
     "metadata": {},
     "output_type": "execute_result"
    }
   ],
   "source": [
    "##Tidying up the 'Status' as the columns are : PartTime or FullTime - Keep as a predictor \n",
    "df.Status.unique()"
   ]
  },
  {
   "cell_type": "code",
   "execution_count": 12,
   "metadata": {
    "collapsed": true
   },
   "outputs": [],
   "source": [
    "df.Status = df.Status.\\\n",
    "    apply(lambda Status: 'PartTime' if Status == 'PT' else Status)\n",
    "    \n",
    "df.Status = df.Status.\\\n",
    "    apply(lambda Status: 'FullTime' if Status == 'FT' else Status) "
   ]
  },
  {
   "cell_type": "code",
   "execution_count": 13,
   "metadata": {
    "collapsed": false
   },
   "outputs": [
    {
     "data": {
      "text/plain": [
       "array([nan, 'PartTime', 'FullTime'], dtype=object)"
      ]
     },
     "execution_count": 13,
     "metadata": {},
     "output_type": "execute_result"
    }
   ],
   "source": [
    "df.Status.unique()"
   ]
  },
  {
   "cell_type": "code",
   "execution_count": 14,
   "metadata": {
    "collapsed": false
   },
   "outputs": [
    {
     "data": {
      "text/plain": [
       "FullTime    22334\n",
       "PartTime    15785\n",
       "Name: Status, dtype: int64"
      ]
     },
     "execution_count": 14,
     "metadata": {},
     "output_type": "execute_result"
    }
   ],
   "source": [
    "df.Status.value_counts()"
   ]
  },
  {
   "cell_type": "code",
   "execution_count": 15,
   "metadata": {
    "collapsed": false
   },
   "outputs": [
    {
     "data": {
      "text/plain": [
       "array([  5.67595430e+05,   5.38909280e+05,   3.35279910e+05, ...,\n",
       "         1.28900000e+01,   6.00000000e+00,  -6.18130000e+02])"
      ]
     },
     "execution_count": 15,
     "metadata": {},
     "output_type": "execute_result"
    }
   ],
   "source": [
    "df.TotalPay.unique()"
   ]
  },
  {
   "cell_type": "code",
   "execution_count": 16,
   "metadata": {
    "collapsed": false
   },
   "outputs": [
    {
     "data": {
      "text/plain": [
       "0.00         368\n",
       "18594.00      82\n",
       "123290.70     56\n",
       "132242.50     49\n",
       "105489.00     42\n",
       "            ... \n",
       "80032.09       1\n",
       "5855.02        1\n",
       "100268.68      1\n",
       "882.50         1\n",
       "32056.50       1\n",
       "Name: TotalPay, dtype: int64"
      ]
     },
     "execution_count": 16,
     "metadata": {},
     "output_type": "execute_result"
    }
   ],
   "source": [
    "df.TotalPay.value_counts()"
   ]
  },
  {
   "cell_type": "code",
   "execution_count": 17,
   "metadata": {
    "collapsed": false
   },
   "outputs": [
    {
     "data": {
      "text/plain": [
       "array([  5.67595430e+05,   5.38909280e+05,   3.35279910e+05, ...,\n",
       "         1.28900000e+01,   7.24000000e+00,  -6.18130000e+02])"
      ]
     },
     "execution_count": 17,
     "metadata": {},
     "output_type": "execute_result"
    }
   ],
   "source": [
    "df.TotalPayBenefits.unique()"
   ]
  },
  {
   "cell_type": "code",
   "execution_count": 18,
   "metadata": {
    "collapsed": false
   },
   "outputs": [
    {
     "data": {
      "text/plain": [
       "7959.18      263\n",
       "123290.70     56\n",
       "132242.50     49\n",
       "26058.70      43\n",
       "105489.00     42\n",
       "            ... \n",
       "71018.91       1\n",
       "149276.36      1\n",
       "71524.39       1\n",
       "250176.84      1\n",
       "32056.50       1\n",
       "Name: TotalPayBenefits, dtype: int64"
      ]
     },
     "execution_count": 18,
     "metadata": {},
     "output_type": "execute_result"
    }
   ],
   "source": [
    "df.TotalPayBenefits.value_counts()"
   ]
  },
  {
   "cell_type": "code",
   "execution_count": 19,
   "metadata": {
    "collapsed": false
   },
   "outputs": [
    {
     "data": {
      "text/plain": [
       "array(['GENERAL MANAGER-METROPOLITAN TRANSIT AUTHORITY',\n",
       "       'CAPTAIN III (POLICE DEPARTMENT)',\n",
       "       'WIRE ROPE CABLE MAINTENANCE MECHANIC', ..., 'Conversion',\n",
       "       'Cashier 3', 'Not provided'], dtype=object)"
      ]
     },
     "execution_count": 19,
     "metadata": {},
     "output_type": "execute_result"
    }
   ],
   "source": [
    "df.JobTitle.unique()"
   ]
  },
  {
   "cell_type": "code",
   "execution_count": 20,
   "metadata": {
    "collapsed": true
   },
   "outputs": [],
   "source": [
    "## Lets see how many missing values the data set has"
   ]
  },
  {
   "cell_type": "code",
   "execution_count": 21,
   "metadata": {
    "collapsed": false
   },
   "outputs": [
    {
     "data": {
      "text/plain": [
       "Id                       0\n",
       "EmployeeName             0\n",
       "JobTitle                 0\n",
       "BasePay                605\n",
       "OvertimePay              0\n",
       "                     ...  \n",
       "Benefits             36159\n",
       "TotalPay                 0\n",
       "TotalPayBenefits         0\n",
       "Year                     0\n",
       "Status              110535\n",
       "dtype: int64"
      ]
     },
     "execution_count": 21,
     "metadata": {},
     "output_type": "execute_result"
    }
   ],
   "source": [
    "df.isnull().sum()"
   ]
  },
  {
   "cell_type": "markdown",
   "metadata": {},
   "source": [
    "# PROJECT 3"
   ]
  },
  {
   "cell_type": "markdown",
   "metadata": {
    "collapsed": false
   },
   "source": [
    "### Exploratory Data Analysis"
   ]
  },
  {
   "cell_type": "code",
   "execution_count": 22,
   "metadata": {
    "collapsed": true
   },
   "outputs": [],
   "source": [
    "## Cleaning up the 'Job Title' and 'Employee Name' in exiting string format and convert them into numeric values"
   ]
  },
  {
   "cell_type": "code",
   "execution_count": 23,
   "metadata": {
    "collapsed": true
   },
   "outputs": [],
   "source": [
    "from sklearn import preprocessing\n",
    "le = preprocessing.LabelEncoder()\n",
    "df.JobTitle = le.fit_transform(df.JobTitle)"
   ]
  },
  {
   "cell_type": "code",
   "execution_count": 24,
   "metadata": {
    "collapsed": true
   },
   "outputs": [],
   "source": [
    "from sklearn import preprocessing\n",
    "le = preprocessing.LabelEncoder()\n",
    "df.JobTitle = le.fit_transform(df.EmployeeName)"
   ]
  },
  {
   "cell_type": "code",
   "execution_count": 25,
   "metadata": {
    "collapsed": false
   },
   "outputs": [
    {
     "data": {
      "text/html": [
       "<div>\n",
       "<table border=\"1\" class=\"dataframe\">\n",
       "  <thead>\n",
       "    <tr style=\"text-align: right;\">\n",
       "      <th></th>\n",
       "      <th>Id</th>\n",
       "      <th>JobTitle</th>\n",
       "      <th>TotalPay</th>\n",
       "      <th>TotalPayBenefits</th>\n",
       "      <th>Year</th>\n",
       "    </tr>\n",
       "  </thead>\n",
       "  <tbody>\n",
       "    <tr>\n",
       "      <th>count</th>\n",
       "      <td>148654.000000</td>\n",
       "      <td>148654.000000</td>\n",
       "      <td>148654.000000</td>\n",
       "      <td>148654.000000</td>\n",
       "      <td>148654.000000</td>\n",
       "    </tr>\n",
       "    <tr>\n",
       "      <th>mean</th>\n",
       "      <td>74327.500000</td>\n",
       "      <td>55617.763431</td>\n",
       "      <td>74768.321972</td>\n",
       "      <td>93692.554811</td>\n",
       "      <td>2012.522643</td>\n",
       "    </tr>\n",
       "    <tr>\n",
       "      <th>std</th>\n",
       "      <td>42912.857795</td>\n",
       "      <td>31927.647179</td>\n",
       "      <td>50517.005274</td>\n",
       "      <td>62793.533483</td>\n",
       "      <td>1.117538</td>\n",
       "    </tr>\n",
       "    <tr>\n",
       "      <th>min</th>\n",
       "      <td>1.000000</td>\n",
       "      <td>0.000000</td>\n",
       "      <td>-618.130000</td>\n",
       "      <td>-618.130000</td>\n",
       "      <td>2011.000000</td>\n",
       "    </tr>\n",
       "    <tr>\n",
       "      <th>25%</th>\n",
       "      <td>37164.250000</td>\n",
       "      <td>27892.000000</td>\n",
       "      <td>36168.995000</td>\n",
       "      <td>44065.650000</td>\n",
       "      <td>2012.000000</td>\n",
       "    </tr>\n",
       "    <tr>\n",
       "      <th>50%</th>\n",
       "      <td>74327.500000</td>\n",
       "      <td>55688.500000</td>\n",
       "      <td>71426.610000</td>\n",
       "      <td>92404.090000</td>\n",
       "      <td>2013.000000</td>\n",
       "    </tr>\n",
       "    <tr>\n",
       "      <th>75%</th>\n",
       "      <td>111490.750000</td>\n",
       "      <td>83062.000000</td>\n",
       "      <td>105839.135000</td>\n",
       "      <td>132876.450000</td>\n",
       "      <td>2014.000000</td>\n",
       "    </tr>\n",
       "    <tr>\n",
       "      <th>max</th>\n",
       "      <td>148654.000000</td>\n",
       "      <td>110810.000000</td>\n",
       "      <td>567595.430000</td>\n",
       "      <td>567595.430000</td>\n",
       "      <td>2014.000000</td>\n",
       "    </tr>\n",
       "  </tbody>\n",
       "</table>\n",
       "</div>"
      ],
      "text/plain": [
       "                  Id       JobTitle       TotalPay  TotalPayBenefits  \\\n",
       "count  148654.000000  148654.000000  148654.000000     148654.000000   \n",
       "mean    74327.500000   55617.763431   74768.321972      93692.554811   \n",
       "std     42912.857795   31927.647179   50517.005274      62793.533483   \n",
       "min         1.000000       0.000000    -618.130000       -618.130000   \n",
       "25%     37164.250000   27892.000000   36168.995000      44065.650000   \n",
       "50%     74327.500000   55688.500000   71426.610000      92404.090000   \n",
       "75%    111490.750000   83062.000000  105839.135000     132876.450000   \n",
       "max    148654.000000  110810.000000  567595.430000     567595.430000   \n",
       "\n",
       "                Year  \n",
       "count  148654.000000  \n",
       "mean     2012.522643  \n",
       "std         1.117538  \n",
       "min      2011.000000  \n",
       "25%      2012.000000  \n",
       "50%      2013.000000  \n",
       "75%      2014.000000  \n",
       "max      2014.000000  "
      ]
     },
     "execution_count": 25,
     "metadata": {},
     "output_type": "execute_result"
    }
   ],
   "source": [
    "df.describe()"
   ]
  },
  {
   "cell_type": "code",
   "execution_count": 26,
   "metadata": {
    "collapsed": false
   },
   "outputs": [
    {
     "data": {
      "text/plain": [
       "count    148654.000000\n",
       "mean      74768.321972\n",
       "std       50517.005274\n",
       "min        -618.130000\n",
       "25%       36168.995000\n",
       "50%       71426.610000\n",
       "75%      105839.135000\n",
       "max      567595.430000\n",
       "Name: TotalPay, dtype: float64"
      ]
     },
     "execution_count": 26,
     "metadata": {},
     "output_type": "execute_result"
    }
   ],
   "source": [
    "df.TotalPay.describe()"
   ]
  },
  {
   "cell_type": "code",
   "execution_count": 27,
   "metadata": {
    "collapsed": true
   },
   "outputs": [],
   "source": [
    "## There is a mis-stated invoice min.value: '-618.13'"
   ]
  },
  {
   "cell_type": "code",
   "execution_count": 28,
   "metadata": {
    "collapsed": false
   },
   "outputs": [
    {
     "data": {
      "text/html": [
       "<div>\n",
       "<table border=\"1\" class=\"dataframe\">\n",
       "  <thead>\n",
       "    <tr style=\"text-align: right;\">\n",
       "      <th></th>\n",
       "      <th>Id</th>\n",
       "      <th>EmployeeName</th>\n",
       "      <th>JobTitle</th>\n",
       "      <th>BasePay</th>\n",
       "      <th>OvertimePay</th>\n",
       "      <th>...</th>\n",
       "      <th>Benefits</th>\n",
       "      <th>TotalPay</th>\n",
       "      <th>TotalPayBenefits</th>\n",
       "      <th>Year</th>\n",
       "      <th>Status</th>\n",
       "    </tr>\n",
       "  </thead>\n",
       "  <tbody>\n",
       "    <tr>\n",
       "      <th>148653</th>\n",
       "      <td>148654</td>\n",
       "      <td>Joe Lopez</td>\n",
       "      <td>50065</td>\n",
       "      <td>0.00</td>\n",
       "      <td>0.00</td>\n",
       "      <td>...</td>\n",
       "      <td>0.00</td>\n",
       "      <td>-618.13</td>\n",
       "      <td>-618.13</td>\n",
       "      <td>2014</td>\n",
       "      <td>PartTime</td>\n",
       "    </tr>\n",
       "  </tbody>\n",
       "</table>\n",
       "<p>1 rows × 11 columns</p>\n",
       "</div>"
      ],
      "text/plain": [
       "            Id EmployeeName  JobTitle BasePay OvertimePay    ...    Benefits  \\\n",
       "148653  148654    Joe Lopez     50065    0.00        0.00    ...        0.00   \n",
       "\n",
       "       TotalPay  TotalPayBenefits  Year    Status  \n",
       "148653  -618.13           -618.13  2014  PartTime  \n",
       "\n",
       "[1 rows x 11 columns]"
      ]
     },
     "execution_count": 28,
     "metadata": {},
     "output_type": "execute_result"
    }
   ],
   "source": [
    "df[df.TotalPay < 0]"
   ]
  },
  {
   "cell_type": "code",
   "execution_count": 29,
   "metadata": {
    "collapsed": true
   },
   "outputs": [],
   "source": [
    "## Getting rid of row with TotalPay = \"-618.13\" - no longer valid now.\n",
    "df = df[df.EmployeeName.str.contains(\"Joe Lopez\") == False]"
   ]
  },
  {
   "cell_type": "code",
   "execution_count": 30,
   "metadata": {
    "collapsed": true
   },
   "outputs": [],
   "source": [
    "## The people with O and less than 100 $ TotalPay\n",
    "## Some of them are getting benefits. Perhaps they’re retired, on disability, or something else?"
   ]
  },
  {
   "cell_type": "code",
   "execution_count": 31,
   "metadata": {
    "collapsed": false,
    "scrolled": true
   },
   "outputs": [
    {
     "data": {
      "text/html": [
       "<div>\n",
       "<table border=\"1\" class=\"dataframe\">\n",
       "  <thead>\n",
       "    <tr style=\"text-align: right;\">\n",
       "      <th></th>\n",
       "      <th>Id</th>\n",
       "      <th>EmployeeName</th>\n",
       "      <th>JobTitle</th>\n",
       "      <th>BasePay</th>\n",
       "      <th>OvertimePay</th>\n",
       "      <th>...</th>\n",
       "      <th>Benefits</th>\n",
       "      <th>TotalPay</th>\n",
       "      <th>TotalPayBenefits</th>\n",
       "      <th>Year</th>\n",
       "      <th>Status</th>\n",
       "    </tr>\n",
       "  </thead>\n",
       "  <tbody>\n",
       "    <tr>\n",
       "      <th>36156</th>\n",
       "      <td>36157</td>\n",
       "      <td>PAULETTE ADAMS</td>\n",
       "      <td>80802</td>\n",
       "      <td>0</td>\n",
       "      <td>0</td>\n",
       "      <td>...</td>\n",
       "      <td>NaN</td>\n",
       "      <td>0.0</td>\n",
       "      <td>0.00</td>\n",
       "      <td>2011</td>\n",
       "      <td>NaN</td>\n",
       "    </tr>\n",
       "    <tr>\n",
       "      <th>36157</th>\n",
       "      <td>36158</td>\n",
       "      <td>KAUKAB MOHSIN</td>\n",
       "      <td>54718</td>\n",
       "      <td>0</td>\n",
       "      <td>0</td>\n",
       "      <td>...</td>\n",
       "      <td>NaN</td>\n",
       "      <td>0.0</td>\n",
       "      <td>0.00</td>\n",
       "      <td>2011</td>\n",
       "      <td>NaN</td>\n",
       "    </tr>\n",
       "    <tr>\n",
       "      <th>36158</th>\n",
       "      <td>36159</td>\n",
       "      <td>JOSEPHINE MCCREARY</td>\n",
       "      <td>44518</td>\n",
       "      <td>0</td>\n",
       "      <td>0</td>\n",
       "      <td>...</td>\n",
       "      <td>NaN</td>\n",
       "      <td>0.0</td>\n",
       "      <td>0.00</td>\n",
       "      <td>2011</td>\n",
       "      <td>NaN</td>\n",
       "    </tr>\n",
       "    <tr>\n",
       "      <th>70877</th>\n",
       "      <td>70878</td>\n",
       "      <td>Roland Baylon</td>\n",
       "      <td>90560</td>\n",
       "      <td>0</td>\n",
       "      <td>0</td>\n",
       "      <td>...</td>\n",
       "      <td>3728.05</td>\n",
       "      <td>0.0</td>\n",
       "      <td>3728.05</td>\n",
       "      <td>2012</td>\n",
       "      <td>NaN</td>\n",
       "    </tr>\n",
       "    <tr>\n",
       "      <th>70927</th>\n",
       "      <td>70928</td>\n",
       "      <td>Felecia Phillips</td>\n",
       "      <td>33127</td>\n",
       "      <td>0</td>\n",
       "      <td>0</td>\n",
       "      <td>...</td>\n",
       "      <td>3618.13</td>\n",
       "      <td>0.0</td>\n",
       "      <td>3618.13</td>\n",
       "      <td>2012</td>\n",
       "      <td>NaN</td>\n",
       "    </tr>\n",
       "    <tr>\n",
       "      <th>...</th>\n",
       "      <td>...</td>\n",
       "      <td>...</td>\n",
       "      <td>...</td>\n",
       "      <td>...</td>\n",
       "      <td>...</td>\n",
       "      <td>...</td>\n",
       "      <td>...</td>\n",
       "      <td>...</td>\n",
       "      <td>...</td>\n",
       "      <td>...</td>\n",
       "      <td>...</td>\n",
       "    </tr>\n",
       "    <tr>\n",
       "      <th>148648</th>\n",
       "      <td>148649</td>\n",
       "      <td>Leon Walker</td>\n",
       "      <td>62496</td>\n",
       "      <td>0.00</td>\n",
       "      <td>0.00</td>\n",
       "      <td>...</td>\n",
       "      <td>0.00</td>\n",
       "      <td>0.0</td>\n",
       "      <td>0.00</td>\n",
       "      <td>2014</td>\n",
       "      <td>PartTime</td>\n",
       "    </tr>\n",
       "    <tr>\n",
       "      <th>148649</th>\n",
       "      <td>148650</td>\n",
       "      <td>Roy I Tillery</td>\n",
       "      <td>91653</td>\n",
       "      <td>0.00</td>\n",
       "      <td>0.00</td>\n",
       "      <td>...</td>\n",
       "      <td>0.00</td>\n",
       "      <td>0.0</td>\n",
       "      <td>0.00</td>\n",
       "      <td>2014</td>\n",
       "      <td>PartTime</td>\n",
       "    </tr>\n",
       "    <tr>\n",
       "      <th>148650</th>\n",
       "      <td>148651</td>\n",
       "      <td>Not provided</td>\n",
       "      <td>79495</td>\n",
       "      <td>Not Provided</td>\n",
       "      <td>Not Provided</td>\n",
       "      <td>...</td>\n",
       "      <td>Not Provided</td>\n",
       "      <td>0.0</td>\n",
       "      <td>0.00</td>\n",
       "      <td>2014</td>\n",
       "      <td>NaN</td>\n",
       "    </tr>\n",
       "    <tr>\n",
       "      <th>148651</th>\n",
       "      <td>148652</td>\n",
       "      <td>Not provided</td>\n",
       "      <td>79495</td>\n",
       "      <td>Not Provided</td>\n",
       "      <td>Not Provided</td>\n",
       "      <td>...</td>\n",
       "      <td>Not Provided</td>\n",
       "      <td>0.0</td>\n",
       "      <td>0.00</td>\n",
       "      <td>2014</td>\n",
       "      <td>NaN</td>\n",
       "    </tr>\n",
       "    <tr>\n",
       "      <th>148652</th>\n",
       "      <td>148653</td>\n",
       "      <td>Not provided</td>\n",
       "      <td>79495</td>\n",
       "      <td>Not Provided</td>\n",
       "      <td>Not Provided</td>\n",
       "      <td>...</td>\n",
       "      <td>Not Provided</td>\n",
       "      <td>0.0</td>\n",
       "      <td>0.00</td>\n",
       "      <td>2014</td>\n",
       "      <td>NaN</td>\n",
       "    </tr>\n",
       "  </tbody>\n",
       "</table>\n",
       "<p>368 rows × 11 columns</p>\n",
       "</div>"
      ],
      "text/plain": [
       "            Id        EmployeeName  JobTitle       BasePay   OvertimePay  \\\n",
       "36156    36157      PAULETTE ADAMS     80802             0             0   \n",
       "36157    36158       KAUKAB MOHSIN     54718             0             0   \n",
       "36158    36159  JOSEPHINE MCCREARY     44518             0             0   \n",
       "70877    70878       Roland Baylon     90560             0             0   \n",
       "70927    70928    Felecia Phillips     33127             0             0   \n",
       "...        ...                 ...       ...           ...           ...   \n",
       "148648  148649         Leon Walker     62496          0.00          0.00   \n",
       "148649  148650       Roy I Tillery     91653          0.00          0.00   \n",
       "148650  148651        Not provided     79495  Not Provided  Not Provided   \n",
       "148651  148652        Not provided     79495  Not Provided  Not Provided   \n",
       "148652  148653        Not provided     79495  Not Provided  Not Provided   \n",
       "\n",
       "          ...         Benefits TotalPay  TotalPayBenefits  Year    Status  \n",
       "36156     ...              NaN      0.0              0.00  2011       NaN  \n",
       "36157     ...              NaN      0.0              0.00  2011       NaN  \n",
       "36158     ...              NaN      0.0              0.00  2011       NaN  \n",
       "70877     ...          3728.05      0.0           3728.05  2012       NaN  \n",
       "70927     ...          3618.13      0.0           3618.13  2012       NaN  \n",
       "...       ...              ...      ...               ...   ...       ...  \n",
       "148648    ...             0.00      0.0              0.00  2014  PartTime  \n",
       "148649    ...             0.00      0.0              0.00  2014  PartTime  \n",
       "148650    ...     Not Provided      0.0              0.00  2014       NaN  \n",
       "148651    ...     Not Provided      0.0              0.00  2014       NaN  \n",
       "148652    ...     Not Provided      0.0              0.00  2014       NaN  \n",
       "\n",
       "[368 rows x 11 columns]"
      ]
     },
     "execution_count": 31,
     "metadata": {},
     "output_type": "execute_result"
    }
   ],
   "source": [
    "df[df.TotalPay == 0]"
   ]
  },
  {
   "cell_type": "code",
   "execution_count": 32,
   "metadata": {
    "collapsed": false
   },
   "outputs": [
    {
     "data": {
      "text/html": [
       "<div>\n",
       "<table border=\"1\" class=\"dataframe\">\n",
       "  <thead>\n",
       "    <tr style=\"text-align: right;\">\n",
       "      <th></th>\n",
       "      <th>Id</th>\n",
       "      <th>EmployeeName</th>\n",
       "      <th>JobTitle</th>\n",
       "      <th>BasePay</th>\n",
       "      <th>OvertimePay</th>\n",
       "      <th>...</th>\n",
       "      <th>Benefits</th>\n",
       "      <th>TotalPay</th>\n",
       "      <th>TotalPayBenefits</th>\n",
       "      <th>Year</th>\n",
       "      <th>Status</th>\n",
       "    </tr>\n",
       "  </thead>\n",
       "  <tbody>\n",
       "    <tr>\n",
       "      <th>36070</th>\n",
       "      <td>36071</td>\n",
       "      <td>CLARENCE JOHNSON</td>\n",
       "      <td>14236</td>\n",
       "      <td>99.1</td>\n",
       "      <td>0</td>\n",
       "      <td>...</td>\n",
       "      <td>NaN</td>\n",
       "      <td>99.10</td>\n",
       "      <td>99.10</td>\n",
       "      <td>2011</td>\n",
       "      <td>NaN</td>\n",
       "    </tr>\n",
       "    <tr>\n",
       "      <th>36071</th>\n",
       "      <td>36072</td>\n",
       "      <td>RONALD TERASHIMA</td>\n",
       "      <td>86024</td>\n",
       "      <td>0</td>\n",
       "      <td>0</td>\n",
       "      <td>...</td>\n",
       "      <td>NaN</td>\n",
       "      <td>98.10</td>\n",
       "      <td>98.10</td>\n",
       "      <td>2011</td>\n",
       "      <td>NaN</td>\n",
       "    </tr>\n",
       "    <tr>\n",
       "      <th>36072</th>\n",
       "      <td>36073</td>\n",
       "      <td>LINDSAY PALAIMA</td>\n",
       "      <td>60320</td>\n",
       "      <td>98</td>\n",
       "      <td>0</td>\n",
       "      <td>...</td>\n",
       "      <td>NaN</td>\n",
       "      <td>98.00</td>\n",
       "      <td>98.00</td>\n",
       "      <td>2011</td>\n",
       "      <td>NaN</td>\n",
       "    </tr>\n",
       "    <tr>\n",
       "      <th>36073</th>\n",
       "      <td>36074</td>\n",
       "      <td>FIAMMA GIGER</td>\n",
       "      <td>32498</td>\n",
       "      <td>98</td>\n",
       "      <td>0</td>\n",
       "      <td>...</td>\n",
       "      <td>NaN</td>\n",
       "      <td>98.00</td>\n",
       "      <td>98.00</td>\n",
       "      <td>2011</td>\n",
       "      <td>NaN</td>\n",
       "    </tr>\n",
       "    <tr>\n",
       "      <th>36074</th>\n",
       "      <td>36075</td>\n",
       "      <td>CHERI COLLINS</td>\n",
       "      <td>13590</td>\n",
       "      <td>0</td>\n",
       "      <td>0</td>\n",
       "      <td>...</td>\n",
       "      <td>NaN</td>\n",
       "      <td>97.73</td>\n",
       "      <td>97.73</td>\n",
       "      <td>2011</td>\n",
       "      <td>NaN</td>\n",
       "    </tr>\n",
       "    <tr>\n",
       "      <th>...</th>\n",
       "      <td>...</td>\n",
       "      <td>...</td>\n",
       "      <td>...</td>\n",
       "      <td>...</td>\n",
       "      <td>...</td>\n",
       "      <td>...</td>\n",
       "      <td>...</td>\n",
       "      <td>...</td>\n",
       "      <td>...</td>\n",
       "      <td>...</td>\n",
       "      <td>...</td>\n",
       "    </tr>\n",
       "    <tr>\n",
       "      <th>148648</th>\n",
       "      <td>148649</td>\n",
       "      <td>Leon Walker</td>\n",
       "      <td>62496</td>\n",
       "      <td>0.00</td>\n",
       "      <td>0.00</td>\n",
       "      <td>...</td>\n",
       "      <td>0.00</td>\n",
       "      <td>0.00</td>\n",
       "      <td>0.00</td>\n",
       "      <td>2014</td>\n",
       "      <td>PartTime</td>\n",
       "    </tr>\n",
       "    <tr>\n",
       "      <th>148649</th>\n",
       "      <td>148650</td>\n",
       "      <td>Roy I Tillery</td>\n",
       "      <td>91653</td>\n",
       "      <td>0.00</td>\n",
       "      <td>0.00</td>\n",
       "      <td>...</td>\n",
       "      <td>0.00</td>\n",
       "      <td>0.00</td>\n",
       "      <td>0.00</td>\n",
       "      <td>2014</td>\n",
       "      <td>PartTime</td>\n",
       "    </tr>\n",
       "    <tr>\n",
       "      <th>148650</th>\n",
       "      <td>148651</td>\n",
       "      <td>Not provided</td>\n",
       "      <td>79495</td>\n",
       "      <td>Not Provided</td>\n",
       "      <td>Not Provided</td>\n",
       "      <td>...</td>\n",
       "      <td>Not Provided</td>\n",
       "      <td>0.00</td>\n",
       "      <td>0.00</td>\n",
       "      <td>2014</td>\n",
       "      <td>NaN</td>\n",
       "    </tr>\n",
       "    <tr>\n",
       "      <th>148651</th>\n",
       "      <td>148652</td>\n",
       "      <td>Not provided</td>\n",
       "      <td>79495</td>\n",
       "      <td>Not Provided</td>\n",
       "      <td>Not Provided</td>\n",
       "      <td>...</td>\n",
       "      <td>Not Provided</td>\n",
       "      <td>0.00</td>\n",
       "      <td>0.00</td>\n",
       "      <td>2014</td>\n",
       "      <td>NaN</td>\n",
       "    </tr>\n",
       "    <tr>\n",
       "      <th>148652</th>\n",
       "      <td>148653</td>\n",
       "      <td>Not provided</td>\n",
       "      <td>79495</td>\n",
       "      <td>Not Provided</td>\n",
       "      <td>Not Provided</td>\n",
       "      <td>...</td>\n",
       "      <td>Not Provided</td>\n",
       "      <td>0.00</td>\n",
       "      <td>0.00</td>\n",
       "      <td>2014</td>\n",
       "      <td>NaN</td>\n",
       "    </tr>\n",
       "  </tbody>\n",
       "</table>\n",
       "<p>766 rows × 11 columns</p>\n",
       "</div>"
      ],
      "text/plain": [
       "            Id      EmployeeName  JobTitle       BasePay   OvertimePay  \\\n",
       "36070    36071  CLARENCE JOHNSON     14236          99.1             0   \n",
       "36071    36072  RONALD TERASHIMA     86024             0             0   \n",
       "36072    36073   LINDSAY PALAIMA     60320            98             0   \n",
       "36073    36074      FIAMMA GIGER     32498            98             0   \n",
       "36074    36075     CHERI COLLINS     13590             0             0   \n",
       "...        ...               ...       ...           ...           ...   \n",
       "148648  148649       Leon Walker     62496          0.00          0.00   \n",
       "148649  148650     Roy I Tillery     91653          0.00          0.00   \n",
       "148650  148651      Not provided     79495  Not Provided  Not Provided   \n",
       "148651  148652      Not provided     79495  Not Provided  Not Provided   \n",
       "148652  148653      Not provided     79495  Not Provided  Not Provided   \n",
       "\n",
       "          ...         Benefits TotalPay  TotalPayBenefits  Year    Status  \n",
       "36070     ...              NaN    99.10             99.10  2011       NaN  \n",
       "36071     ...              NaN    98.10             98.10  2011       NaN  \n",
       "36072     ...              NaN    98.00             98.00  2011       NaN  \n",
       "36073     ...              NaN    98.00             98.00  2011       NaN  \n",
       "36074     ...              NaN    97.73             97.73  2011       NaN  \n",
       "...       ...              ...      ...               ...   ...       ...  \n",
       "148648    ...             0.00     0.00              0.00  2014  PartTime  \n",
       "148649    ...             0.00     0.00              0.00  2014  PartTime  \n",
       "148650    ...     Not Provided     0.00              0.00  2014       NaN  \n",
       "148651    ...     Not Provided     0.00              0.00  2014       NaN  \n",
       "148652    ...     Not Provided     0.00              0.00  2014       NaN  \n",
       "\n",
       "[766 rows x 11 columns]"
      ]
     },
     "execution_count": 32,
     "metadata": {},
     "output_type": "execute_result"
    }
   ],
   "source": [
    "df[df.TotalPay < 100]"
   ]
  },
  {
   "cell_type": "code",
   "execution_count": 33,
   "metadata": {
    "collapsed": false
   },
   "outputs": [],
   "source": [
    "## Getting rid of rows with TotalPay = \"0\" - no longer valid now.\n",
    "## Getting rid of rows with TotalPay < 100 - no longer valid now.\n",
    "df = df[df.TotalPay != 0]\n",
    "df = df.drop(df[df.TotalPay < 100].index)"
   ]
  },
  {
   "cell_type": "code",
   "execution_count": 34,
   "metadata": {
    "collapsed": false
   },
   "outputs": [
    {
     "data": {
      "text/html": [
       "<div>\n",
       "<table border=\"1\" class=\"dataframe\">\n",
       "  <thead>\n",
       "    <tr style=\"text-align: right;\">\n",
       "      <th></th>\n",
       "      <th>Id</th>\n",
       "      <th>EmployeeName</th>\n",
       "      <th>JobTitle</th>\n",
       "      <th>BasePay</th>\n",
       "      <th>OvertimePay</th>\n",
       "      <th>...</th>\n",
       "      <th>Benefits</th>\n",
       "      <th>TotalPay</th>\n",
       "      <th>TotalPayBenefits</th>\n",
       "      <th>Year</th>\n",
       "      <th>Status</th>\n",
       "    </tr>\n",
       "  </thead>\n",
       "  <tbody>\n",
       "    <tr>\n",
       "      <th>110532</th>\n",
       "      <td>110533</td>\n",
       "      <td>Amy P Hart</td>\n",
       "      <td>5513</td>\n",
       "      <td>318835</td>\n",
       "      <td>10713</td>\n",
       "      <td>...</td>\n",
       "      <td>89540.2</td>\n",
       "      <td>390111.98</td>\n",
       "      <td>479652.21</td>\n",
       "      <td>2014</td>\n",
       "      <td>FullTime</td>\n",
       "    </tr>\n",
       "    <tr>\n",
       "      <th>110534</th>\n",
       "      <td>110535</td>\n",
       "      <td>Gregory P Suhr</td>\n",
       "      <td>37519</td>\n",
       "      <td>307450</td>\n",
       "      <td>0</td>\n",
       "      <td>...</td>\n",
       "      <td>91302.5</td>\n",
       "      <td>326716.76</td>\n",
       "      <td>418019.22</td>\n",
       "      <td>2014</td>\n",
       "      <td>FullTime</td>\n",
       "    </tr>\n",
       "    <tr>\n",
       "      <th>110535</th>\n",
       "      <td>110536</td>\n",
       "      <td>Joanne M Hayes-White</td>\n",
       "      <td>49885</td>\n",
       "      <td>302068</td>\n",
       "      <td>0</td>\n",
       "      <td>...</td>\n",
       "      <td>91201.7</td>\n",
       "      <td>326233.44</td>\n",
       "      <td>417435.10</td>\n",
       "      <td>2014</td>\n",
       "      <td>FullTime</td>\n",
       "    </tr>\n",
       "    <tr>\n",
       "      <th>110536</th>\n",
       "      <td>110537</td>\n",
       "      <td>Ellen G Moffatt</td>\n",
       "      <td>30367</td>\n",
       "      <td>270222</td>\n",
       "      <td>6009.22</td>\n",
       "      <td>...</td>\n",
       "      <td>71580.5</td>\n",
       "      <td>344187.46</td>\n",
       "      <td>415767.94</td>\n",
       "      <td>2014</td>\n",
       "      <td>FullTime</td>\n",
       "    </tr>\n",
       "    <tr>\n",
       "      <th>110537</th>\n",
       "      <td>110538</td>\n",
       "      <td>John L Martin</td>\n",
       "      <td>50815</td>\n",
       "      <td>311299</td>\n",
       "      <td>0</td>\n",
       "      <td>...</td>\n",
       "      <td>89772.3</td>\n",
       "      <td>311298.55</td>\n",
       "      <td>401070.87</td>\n",
       "      <td>2014</td>\n",
       "      <td>FullTime</td>\n",
       "    </tr>\n",
       "  </tbody>\n",
       "</table>\n",
       "<p>5 rows × 11 columns</p>\n",
       "</div>"
      ],
      "text/plain": [
       "            Id          EmployeeName  JobTitle BasePay OvertimePay    ...     \\\n",
       "110532  110533            Amy P Hart      5513  318835       10713    ...      \n",
       "110534  110535        Gregory P Suhr     37519  307450           0    ...      \n",
       "110535  110536  Joanne M Hayes-White     49885  302068           0    ...      \n",
       "110536  110537       Ellen G Moffatt     30367  270222     6009.22    ...      \n",
       "110537  110538         John L Martin     50815  311299           0    ...      \n",
       "\n",
       "       Benefits   TotalPay  TotalPayBenefits  Year    Status  \n",
       "110532  89540.2  390111.98         479652.21  2014  FullTime  \n",
       "110534  91302.5  326716.76         418019.22  2014  FullTime  \n",
       "110535  91201.7  326233.44         417435.10  2014  FullTime  \n",
       "110536  71580.5  344187.46         415767.94  2014  FullTime  \n",
       "110537  89772.3  311298.55         401070.87  2014  FullTime  \n",
       "\n",
       "[5 rows x 11 columns]"
      ]
     },
     "execution_count": 34,
     "metadata": {},
     "output_type": "execute_result"
    }
   ],
   "source": [
    "## Selecting the data\n",
    "subset_df = df[(df.Status == 'FullTime')]\n",
    "\n",
    "subset_df.head()"
   ]
  },
  {
   "cell_type": "code",
   "execution_count": 35,
   "metadata": {
    "collapsed": false
   },
   "outputs": [
    {
     "data": {
      "text/html": [
       "<div>\n",
       "<table border=\"1\" class=\"dataframe\">\n",
       "  <thead>\n",
       "    <tr style=\"text-align: right;\">\n",
       "      <th></th>\n",
       "      <th>Id</th>\n",
       "      <th>EmployeeName</th>\n",
       "      <th>JobTitle</th>\n",
       "      <th>BasePay</th>\n",
       "      <th>OvertimePay</th>\n",
       "      <th>...</th>\n",
       "      <th>Benefits</th>\n",
       "      <th>TotalPay</th>\n",
       "      <th>TotalPayBenefits</th>\n",
       "      <th>Year</th>\n",
       "      <th>Status</th>\n",
       "    </tr>\n",
       "  </thead>\n",
       "  <tbody>\n",
       "    <tr>\n",
       "      <th>110531</th>\n",
       "      <td>110532</td>\n",
       "      <td>David Shinn</td>\n",
       "      <td>24407</td>\n",
       "      <td>129150</td>\n",
       "      <td>0</td>\n",
       "      <td>...</td>\n",
       "      <td>38780</td>\n",
       "      <td>471952.64</td>\n",
       "      <td>510732.68</td>\n",
       "      <td>2014</td>\n",
       "      <td>PartTime</td>\n",
       "    </tr>\n",
       "    <tr>\n",
       "      <th>110532</th>\n",
       "      <td>110533</td>\n",
       "      <td>Amy P Hart</td>\n",
       "      <td>5513</td>\n",
       "      <td>318835</td>\n",
       "      <td>10713</td>\n",
       "      <td>...</td>\n",
       "      <td>89540.2</td>\n",
       "      <td>390111.98</td>\n",
       "      <td>479652.21</td>\n",
       "      <td>2014</td>\n",
       "      <td>FullTime</td>\n",
       "    </tr>\n",
       "    <tr>\n",
       "      <th>110533</th>\n",
       "      <td>110534</td>\n",
       "      <td>William J Coaker Jr.</td>\n",
       "      <td>108225</td>\n",
       "      <td>257340</td>\n",
       "      <td>0</td>\n",
       "      <td>...</td>\n",
       "      <td>96570.7</td>\n",
       "      <td>339653.70</td>\n",
       "      <td>436224.36</td>\n",
       "      <td>2014</td>\n",
       "      <td>PartTime</td>\n",
       "    </tr>\n",
       "    <tr>\n",
       "      <th>110534</th>\n",
       "      <td>110535</td>\n",
       "      <td>Gregory P Suhr</td>\n",
       "      <td>37519</td>\n",
       "      <td>307450</td>\n",
       "      <td>0</td>\n",
       "      <td>...</td>\n",
       "      <td>91302.5</td>\n",
       "      <td>326716.76</td>\n",
       "      <td>418019.22</td>\n",
       "      <td>2014</td>\n",
       "      <td>FullTime</td>\n",
       "    </tr>\n",
       "    <tr>\n",
       "      <th>110535</th>\n",
       "      <td>110536</td>\n",
       "      <td>Joanne M Hayes-White</td>\n",
       "      <td>49885</td>\n",
       "      <td>302068</td>\n",
       "      <td>0</td>\n",
       "      <td>...</td>\n",
       "      <td>91201.7</td>\n",
       "      <td>326233.44</td>\n",
       "      <td>417435.10</td>\n",
       "      <td>2014</td>\n",
       "      <td>FullTime</td>\n",
       "    </tr>\n",
       "    <tr>\n",
       "      <th>...</th>\n",
       "      <td>...</td>\n",
       "      <td>...</td>\n",
       "      <td>...</td>\n",
       "      <td>...</td>\n",
       "      <td>...</td>\n",
       "      <td>...</td>\n",
       "      <td>...</td>\n",
       "      <td>...</td>\n",
       "      <td>...</td>\n",
       "      <td>...</td>\n",
       "      <td>...</td>\n",
       "    </tr>\n",
       "    <tr>\n",
       "      <th>148536</th>\n",
       "      <td>148537</td>\n",
       "      <td>Kevin W Harper</td>\n",
       "      <td>58141</td>\n",
       "      <td>100.00</td>\n",
       "      <td>0.00</td>\n",
       "      <td>...</td>\n",
       "      <td>1.00</td>\n",
       "      <td>100.00</td>\n",
       "      <td>101.00</td>\n",
       "      <td>2014</td>\n",
       "      <td>PartTime</td>\n",
       "    </tr>\n",
       "    <tr>\n",
       "      <th>148537</th>\n",
       "      <td>148538</td>\n",
       "      <td>Ken Prag</td>\n",
       "      <td>57191</td>\n",
       "      <td>100.00</td>\n",
       "      <td>0.00</td>\n",
       "      <td>...</td>\n",
       "      <td>1.00</td>\n",
       "      <td>100.00</td>\n",
       "      <td>101.00</td>\n",
       "      <td>2014</td>\n",
       "      <td>PartTime</td>\n",
       "    </tr>\n",
       "    <tr>\n",
       "      <th>148538</th>\n",
       "      <td>148539</td>\n",
       "      <td>Roy Kaushik</td>\n",
       "      <td>91657</td>\n",
       "      <td>100.00</td>\n",
       "      <td>0.00</td>\n",
       "      <td>...</td>\n",
       "      <td>1.00</td>\n",
       "      <td>100.00</td>\n",
       "      <td>101.00</td>\n",
       "      <td>2014</td>\n",
       "      <td>PartTime</td>\n",
       "    </tr>\n",
       "    <tr>\n",
       "      <th>148539</th>\n",
       "      <td>148540</td>\n",
       "      <td>Hope A Schmeltzer</td>\n",
       "      <td>39754</td>\n",
       "      <td>100.00</td>\n",
       "      <td>0.00</td>\n",
       "      <td>...</td>\n",
       "      <td>0.00</td>\n",
       "      <td>100.00</td>\n",
       "      <td>100.00</td>\n",
       "      <td>2014</td>\n",
       "      <td>PartTime</td>\n",
       "    </tr>\n",
       "    <tr>\n",
       "      <th>148540</th>\n",
       "      <td>148541</td>\n",
       "      <td>Alexander Macdonald</td>\n",
       "      <td>4192</td>\n",
       "      <td>100.00</td>\n",
       "      <td>0.00</td>\n",
       "      <td>...</td>\n",
       "      <td>0.00</td>\n",
       "      <td>100.00</td>\n",
       "      <td>100.00</td>\n",
       "      <td>2014</td>\n",
       "      <td>PartTime</td>\n",
       "    </tr>\n",
       "  </tbody>\n",
       "</table>\n",
       "<p>37965 rows × 11 columns</p>\n",
       "</div>"
      ],
      "text/plain": [
       "            Id          EmployeeName  JobTitle BasePay OvertimePay    ...     \\\n",
       "110531  110532           David Shinn     24407  129150           0    ...      \n",
       "110532  110533            Amy P Hart      5513  318835       10713    ...      \n",
       "110533  110534  William J Coaker Jr.    108225  257340           0    ...      \n",
       "110534  110535        Gregory P Suhr     37519  307450           0    ...      \n",
       "110535  110536  Joanne M Hayes-White     49885  302068           0    ...      \n",
       "...        ...                   ...       ...     ...         ...    ...      \n",
       "148536  148537        Kevin W Harper     58141  100.00        0.00    ...      \n",
       "148537  148538              Ken Prag     57191  100.00        0.00    ...      \n",
       "148538  148539           Roy Kaushik     91657  100.00        0.00    ...      \n",
       "148539  148540     Hope A Schmeltzer     39754  100.00        0.00    ...      \n",
       "148540  148541   Alexander Macdonald      4192  100.00        0.00    ...      \n",
       "\n",
       "       Benefits   TotalPay  TotalPayBenefits  Year    Status  \n",
       "110531    38780  471952.64         510732.68  2014  PartTime  \n",
       "110532  89540.2  390111.98         479652.21  2014  FullTime  \n",
       "110533  96570.7  339653.70         436224.36  2014  PartTime  \n",
       "110534  91302.5  326716.76         418019.22  2014  FullTime  \n",
       "110535  91201.7  326233.44         417435.10  2014  FullTime  \n",
       "...         ...        ...               ...   ...       ...  \n",
       "148536     1.00     100.00            101.00  2014  PartTime  \n",
       "148537     1.00     100.00            101.00  2014  PartTime  \n",
       "148538     1.00     100.00            101.00  2014  PartTime  \n",
       "148539     0.00     100.00            100.00  2014  PartTime  \n",
       "148540     0.00     100.00            100.00  2014  PartTime  \n",
       "\n",
       "[37965 rows x 11 columns]"
      ]
     },
     "execution_count": 35,
     "metadata": {},
     "output_type": "execute_result"
    }
   ],
   "source": [
    "df.dropna(subset = ['BasePay', 'Benefits', 'Status'])"
   ]
  },
  {
   "cell_type": "code",
   "execution_count": 36,
   "metadata": {
    "collapsed": false
   },
   "outputs": [
    {
     "data": {
      "text/plain": [
       "Index([u'Id', u'EmployeeName', u'JobTitle', u'BasePay', u'OvertimePay',\n",
       "       u'OtherPay', u'Benefits', u'TotalPay', u'TotalPayBenefits', u'Year',\n",
       "       u'Status', u'Year_2011', u'Year_2012', u'Year_2013', u'Year_2014',\n",
       "       u'Status_FullTime', u'Status_PartTime'],\n",
       "      dtype='object')"
      ]
     },
     "execution_count": 36,
     "metadata": {},
     "output_type": "execute_result"
    }
   ],
   "source": [
    "# Creating Dummy Variables\n",
    "year_df = pd.get_dummies(df.Year, prefix = 'Year')\n",
    "status_df = pd.get_dummies(df.Status, prefix = 'Status')\n",
    "\n",
    "df = df.join([year_df, status_df])\n",
    "\n",
    "df.columns"
   ]
  },
  {
   "cell_type": "markdown",
   "metadata": {},
   "source": [
    "#### Job Status & Total Pay"
   ]
  },
  {
   "cell_type": "code",
   "execution_count": 37,
   "metadata": {
    "collapsed": true
   },
   "outputs": [],
   "source": [
    "# SF Salaries by JobType"
   ]
  },
  {
   "cell_type": "code",
   "execution_count": 38,
   "metadata": {
    "collapsed": true
   },
   "outputs": [],
   "source": [
    "## Lets find the outliers - Median & Range"
   ]
  },
  {
   "cell_type": "code",
   "execution_count": 39,
   "metadata": {
    "collapsed": false
   },
   "outputs": [
    {
     "data": {
      "text/plain": [
       "<matplotlib.axes._subplots.AxesSubplot at 0x1200b2c50>"
      ]
     },
     "execution_count": 39,
     "metadata": {},
     "output_type": "execute_result"
    },
    {
     "data": {
      "image/png": "[encoded data removed]",
      "text/plain": [
       "<matplotlib.figure.Figure at 0x1200b29d0>"
      ]
     },
     "metadata": {},
     "output_type": "display_data"
    }
   ],
   "source": [
    "df.plot(kind = 'box')"
   ]
  },
  {
   "cell_type": "markdown",
   "metadata": {},
   "source": [
    "Id, Job Title and Total Pay are symmetrically distributed with no outliers. Total Pay Benefits does have any outliers and seems to be Skewed to the left."
   ]
  },
  {
   "cell_type": "code",
   "execution_count": 40,
   "metadata": {
    "collapsed": false
   },
   "outputs": [
    {
     "name": "stdout",
     "output_type": "stream",
     "text": [
      "Dropping outliers\n",
      "- n (before) = 147887\n",
      "- Q1         = 45349.605 ($M)\n",
      "- Q2/Median  = 92756.25 ($M)\n",
      "- Q3         = 133149.635 ($M)\n",
      "- n (after)  = 146898\n"
     ]
    }
   ],
   "source": [
    "def drop_outliers(df):\n",
    "    print 'Dropping outliers'\n",
    "    print '- n (before) =', len(df)\n",
    "\n",
    "    Q1 = df.TotalPayBenefits.quantile(.25)\n",
    "    Q2 = df.TotalPayBenefits.quantile(.5)\n",
    "    Q3 = df.TotalPayBenefits.quantile(.75)\n",
    "    IQR = Q3 - Q1\n",
    "\n",
    "    print '- Q1         =', Q1, '($M)'\n",
    "    print '- Q2/Median  =', Q2, '($M)'\n",
    "    print '- Q3         =', Q3, '($M)'\n",
    "\n",
    "    df.drop(df[df.TotalPayBenefits > Q3 + 1.5 * IQR].index, inplace = True)\n",
    "\n",
    "    print '- n (after)  =', len(df)\n",
    "    \n",
    "drop_outliers(df)"
   ]
  },
  {
   "cell_type": "code",
   "execution_count": 41,
   "metadata": {
    "collapsed": true
   },
   "outputs": [],
   "source": [
    "## Mode"
   ]
  },
  {
   "cell_type": "code",
   "execution_count": 42,
   "metadata": {
    "collapsed": false
   },
   "outputs": [
    {
     "data": {
      "text/plain": [
       "<matplotlib.axes._subplots.AxesSubplot at 0x11ef5b750>"
      ]
     },
     "execution_count": 42,
     "metadata": {},
     "output_type": "execute_result"
    },
    {
     "data": {
      "image/png": "[encoded data removed]",
      "text/plain": [
       "<matplotlib.figure.Figure at 0x1200b2c90>"
      ]
     },
     "metadata": {},
     "output_type": "display_data"
    }
   ],
   "source": [
    "df.TotalPay.plot(kind = 'hist')"
   ]
  },
  {
   "cell_type": "code",
   "execution_count": 43,
   "metadata": {
    "collapsed": false
   },
   "outputs": [
    {
     "data": {
      "text/plain": [
       "<matplotlib.axes._subplots.AxesSubplot at 0x1218e7050>"
      ]
     },
     "execution_count": 43,
     "metadata": {},
     "output_type": "execute_result"
    },
    {
     "data": {
      "image/png": "[encoded data removed]",
      "text/plain": [
       "<matplotlib.figure.Figure at 0x1218e7a10>"
      ]
     },
     "metadata": {},
     "output_type": "display_data"
    }
   ],
   "source": [
    "df.TotalPayBenefits.plot(kind = 'hist')"
   ]
  },
  {
   "cell_type": "code",
   "execution_count": 44,
   "metadata": {
    "collapsed": false
   },
   "outputs": [
    {
     "data": {
      "text/plain": [
       "<matplotlib.axes._subplots.AxesSubplot at 0x11d32c350>"
      ]
     },
     "execution_count": 44,
     "metadata": {},
     "output_type": "execute_result"
    },
    {
     "data": {
      "image/png": "[encoded data removed]",
      "text/plain": [
       "<matplotlib.figure.Figure at 0x1200b27d0>"
      ]
     },
     "metadata": {},
     "output_type": "display_data"
    }
   ],
   "source": [
    "df.JobTitle.plot(kind = 'hist')"
   ]
  },
  {
   "cell_type": "code",
   "execution_count": 45,
   "metadata": {
    "collapsed": false
   },
   "outputs": [
    {
     "data": {
      "text/plain": [
       "array([nan, 48089.3, 66833.19, ..., '1.04', '1.02', '1.00'], dtype=object)"
      ]
     },
     "execution_count": 45,
     "metadata": {},
     "output_type": "execute_result"
    }
   ],
   "source": [
    "df.Benefits.unique()"
   ]
  },
  {
   "cell_type": "code",
   "execution_count": 46,
   "metadata": {
    "collapsed": false
   },
   "outputs": [
    {
     "data": {
      "text/html": [
       "<div>\n",
       "<table border=\"1\" class=\"dataframe\">\n",
       "  <thead>\n",
       "    <tr style=\"text-align: right;\">\n",
       "      <th></th>\n",
       "      <th>Id</th>\n",
       "      <th>EmployeeName</th>\n",
       "      <th>JobTitle</th>\n",
       "      <th>BasePay</th>\n",
       "      <th>OvertimePay</th>\n",
       "      <th>...</th>\n",
       "      <th>Year_2012</th>\n",
       "      <th>Year_2013</th>\n",
       "      <th>Year_2014</th>\n",
       "      <th>Status_FullTime</th>\n",
       "      <th>Status_PartTime</th>\n",
       "    </tr>\n",
       "  </thead>\n",
       "  <tbody>\n",
       "    <tr>\n",
       "      <th>110857</th>\n",
       "      <td>110858</td>\n",
       "      <td>Sandra K Schwarcz</td>\n",
       "      <td>95123</td>\n",
       "      <td>207036</td>\n",
       "      <td>0</td>\n",
       "      <td>...</td>\n",
       "      <td>0.0</td>\n",
       "      <td>0.0</td>\n",
       "      <td>1.0</td>\n",
       "      <td>1.0</td>\n",
       "      <td>0.0</td>\n",
       "    </tr>\n",
       "    <tr>\n",
       "      <th>110858</th>\n",
       "      <td>110859</td>\n",
       "      <td>Luis A Ibarra-Rivera</td>\n",
       "      <td>64797</td>\n",
       "      <td>130961</td>\n",
       "      <td>62529.9</td>\n",
       "      <td>...</td>\n",
       "      <td>0.0</td>\n",
       "      <td>0.0</td>\n",
       "      <td>1.0</td>\n",
       "      <td>1.0</td>\n",
       "      <td>0.0</td>\n",
       "    </tr>\n",
       "    <tr>\n",
       "      <th>110859</th>\n",
       "      <td>110860</td>\n",
       "      <td>Jennifer E Matz</td>\n",
       "      <td>48253</td>\n",
       "      <td>200308</td>\n",
       "      <td>0</td>\n",
       "      <td>...</td>\n",
       "      <td>0.0</td>\n",
       "      <td>0.0</td>\n",
       "      <td>1.0</td>\n",
       "      <td>1.0</td>\n",
       "      <td>0.0</td>\n",
       "    </tr>\n",
       "    <tr>\n",
       "      <th>110860</th>\n",
       "      <td>110861</td>\n",
       "      <td>Steven P Thompson</td>\n",
       "      <td>99102</td>\n",
       "      <td>205036</td>\n",
       "      <td>0</td>\n",
       "      <td>...</td>\n",
       "      <td>0.0</td>\n",
       "      <td>0.0</td>\n",
       "      <td>1.0</td>\n",
       "      <td>1.0</td>\n",
       "      <td>0.0</td>\n",
       "    </tr>\n",
       "    <tr>\n",
       "      <th>110861</th>\n",
       "      <td>110862</td>\n",
       "      <td>Eddie J Hagan</td>\n",
       "      <td>28886</td>\n",
       "      <td>142996</td>\n",
       "      <td>57546.5</td>\n",
       "      <td>...</td>\n",
       "      <td>0.0</td>\n",
       "      <td>0.0</td>\n",
       "      <td>1.0</td>\n",
       "      <td>1.0</td>\n",
       "      <td>0.0</td>\n",
       "    </tr>\n",
       "    <tr>\n",
       "      <th>...</th>\n",
       "      <td>...</td>\n",
       "      <td>...</td>\n",
       "      <td>...</td>\n",
       "      <td>...</td>\n",
       "      <td>...</td>\n",
       "      <td>...</td>\n",
       "      <td>...</td>\n",
       "      <td>...</td>\n",
       "      <td>...</td>\n",
       "      <td>...</td>\n",
       "      <td>...</td>\n",
       "    </tr>\n",
       "    <tr>\n",
       "      <th>148536</th>\n",
       "      <td>148537</td>\n",
       "      <td>Kevin W Harper</td>\n",
       "      <td>58141</td>\n",
       "      <td>100.00</td>\n",
       "      <td>0.00</td>\n",
       "      <td>...</td>\n",
       "      <td>0.0</td>\n",
       "      <td>0.0</td>\n",
       "      <td>1.0</td>\n",
       "      <td>0.0</td>\n",
       "      <td>1.0</td>\n",
       "    </tr>\n",
       "    <tr>\n",
       "      <th>148537</th>\n",
       "      <td>148538</td>\n",
       "      <td>Ken Prag</td>\n",
       "      <td>57191</td>\n",
       "      <td>100.00</td>\n",
       "      <td>0.00</td>\n",
       "      <td>...</td>\n",
       "      <td>0.0</td>\n",
       "      <td>0.0</td>\n",
       "      <td>1.0</td>\n",
       "      <td>0.0</td>\n",
       "      <td>1.0</td>\n",
       "    </tr>\n",
       "    <tr>\n",
       "      <th>148538</th>\n",
       "      <td>148539</td>\n",
       "      <td>Roy Kaushik</td>\n",
       "      <td>91657</td>\n",
       "      <td>100.00</td>\n",
       "      <td>0.00</td>\n",
       "      <td>...</td>\n",
       "      <td>0.0</td>\n",
       "      <td>0.0</td>\n",
       "      <td>1.0</td>\n",
       "      <td>0.0</td>\n",
       "      <td>1.0</td>\n",
       "    </tr>\n",
       "    <tr>\n",
       "      <th>148539</th>\n",
       "      <td>148540</td>\n",
       "      <td>Hope A Schmeltzer</td>\n",
       "      <td>39754</td>\n",
       "      <td>100.00</td>\n",
       "      <td>0.00</td>\n",
       "      <td>...</td>\n",
       "      <td>0.0</td>\n",
       "      <td>0.0</td>\n",
       "      <td>1.0</td>\n",
       "      <td>0.0</td>\n",
       "      <td>1.0</td>\n",
       "    </tr>\n",
       "    <tr>\n",
       "      <th>148540</th>\n",
       "      <td>148541</td>\n",
       "      <td>Alexander Macdonald</td>\n",
       "      <td>4192</td>\n",
       "      <td>100.00</td>\n",
       "      <td>0.00</td>\n",
       "      <td>...</td>\n",
       "      <td>0.0</td>\n",
       "      <td>0.0</td>\n",
       "      <td>1.0</td>\n",
       "      <td>0.0</td>\n",
       "      <td>1.0</td>\n",
       "    </tr>\n",
       "  </tbody>\n",
       "</table>\n",
       "<p>37639 rows × 17 columns</p>\n",
       "</div>"
      ],
      "text/plain": [
       "            Id          EmployeeName  JobTitle BasePay OvertimePay  \\\n",
       "110857  110858     Sandra K Schwarcz     95123  207036           0   \n",
       "110858  110859  Luis A Ibarra-Rivera     64797  130961     62529.9   \n",
       "110859  110860       Jennifer E Matz     48253  200308           0   \n",
       "110860  110861     Steven P Thompson     99102  205036           0   \n",
       "110861  110862         Eddie J Hagan     28886  142996     57546.5   \n",
       "...        ...                   ...       ...     ...         ...   \n",
       "148536  148537        Kevin W Harper     58141  100.00        0.00   \n",
       "148537  148538              Ken Prag     57191  100.00        0.00   \n",
       "148538  148539           Roy Kaushik     91657  100.00        0.00   \n",
       "148539  148540     Hope A Schmeltzer     39754  100.00        0.00   \n",
       "148540  148541   Alexander Macdonald      4192  100.00        0.00   \n",
       "\n",
       "             ...        Year_2012 Year_2013  Year_2014  Status_FullTime  \\\n",
       "110857       ...              0.0       0.0        1.0              1.0   \n",
       "110858       ...              0.0       0.0        1.0              1.0   \n",
       "110859       ...              0.0       0.0        1.0              1.0   \n",
       "110860       ...              0.0       0.0        1.0              1.0   \n",
       "110861       ...              0.0       0.0        1.0              1.0   \n",
       "...          ...              ...       ...        ...              ...   \n",
       "148536       ...              0.0       0.0        1.0              0.0   \n",
       "148537       ...              0.0       0.0        1.0              0.0   \n",
       "148538       ...              0.0       0.0        1.0              0.0   \n",
       "148539       ...              0.0       0.0        1.0              0.0   \n",
       "148540       ...              0.0       0.0        1.0              0.0   \n",
       "\n",
       "        Status_PartTime  \n",
       "110857              0.0  \n",
       "110858              0.0  \n",
       "110859              0.0  \n",
       "110860              0.0  \n",
       "110861              0.0  \n",
       "...                 ...  \n",
       "148536              1.0  \n",
       "148537              1.0  \n",
       "148538              1.0  \n",
       "148539              1.0  \n",
       "148540              1.0  \n",
       "\n",
       "[37639 rows x 17 columns]"
      ]
     },
     "execution_count": 46,
     "metadata": {},
     "output_type": "execute_result"
    }
   ],
   "source": [
    "df.dropna()"
   ]
  },
  {
   "cell_type": "code",
   "execution_count": 47,
   "metadata": {
    "collapsed": true
   },
   "outputs": [],
   "source": [
    "## Correlation"
   ]
  },
  {
   "cell_type": "code",
   "execution_count": 48,
   "metadata": {
    "collapsed": false,
    "scrolled": true
   },
   "outputs": [
    {
     "data": {
      "text/html": [
       "<div>\n",
       "<table border=\"1\" class=\"dataframe\">\n",
       "  <thead>\n",
       "    <tr style=\"text-align: right;\">\n",
       "      <th></th>\n",
       "      <th>Id</th>\n",
       "      <th>JobTitle</th>\n",
       "      <th>TotalPay</th>\n",
       "      <th>TotalPayBenefits</th>\n",
       "      <th>Year</th>\n",
       "      <th>...</th>\n",
       "      <th>Year_2012</th>\n",
       "      <th>Year_2013</th>\n",
       "      <th>Year_2014</th>\n",
       "      <th>Status_FullTime</th>\n",
       "      <th>Status_PartTime</th>\n",
       "    </tr>\n",
       "  </thead>\n",
       "  <tbody>\n",
       "    <tr>\n",
       "      <th>Id</th>\n",
       "      <td>1.000000</td>\n",
       "      <td>0.032402</td>\n",
       "      <td>-0.216823</td>\n",
       "      <td>-0.091983</td>\n",
       "      <td>0.968976</td>\n",
       "      <td>...</td>\n",
       "      <td>-0.261633</td>\n",
       "      <td>0.236651</td>\n",
       "      <td>0.757745</td>\n",
       "      <td>0.479288</td>\n",
       "      <td>0.518096</td>\n",
       "    </tr>\n",
       "    <tr>\n",
       "      <th>JobTitle</th>\n",
       "      <td>0.032402</td>\n",
       "      <td>1.000000</td>\n",
       "      <td>0.005954</td>\n",
       "      <td>0.014880</td>\n",
       "      <td>0.034738</td>\n",
       "      <td>...</td>\n",
       "      <td>0.017756</td>\n",
       "      <td>0.014053</td>\n",
       "      <td>0.014535</td>\n",
       "      <td>0.012452</td>\n",
       "      <td>0.006165</td>\n",
       "    </tr>\n",
       "    <tr>\n",
       "      <th>TotalPay</th>\n",
       "      <td>-0.216823</td>\n",
       "      <td>0.005954</td>\n",
       "      <td>1.000000</td>\n",
       "      <td>0.975579</td>\n",
       "      <td>0.025671</td>\n",
       "      <td>...</td>\n",
       "      <td>-0.008380</td>\n",
       "      <td>0.030889</td>\n",
       "      <td>0.004257</td>\n",
       "      <td>0.238922</td>\n",
       "      <td>-0.270719</td>\n",
       "    </tr>\n",
       "    <tr>\n",
       "      <th>TotalPayBenefits</th>\n",
       "      <td>-0.091983</td>\n",
       "      <td>0.014880</td>\n",
       "      <td>0.975579</td>\n",
       "      <td>1.000000</td>\n",
       "      <td>0.150730</td>\n",
       "      <td>...</td>\n",
       "      <td>0.065304</td>\n",
       "      <td>0.071727</td>\n",
       "      <td>0.059822</td>\n",
       "      <td>0.302031</td>\n",
       "      <td>-0.265117</td>\n",
       "    </tr>\n",
       "    <tr>\n",
       "      <th>Year</th>\n",
       "      <td>0.968976</td>\n",
       "      <td>0.034738</td>\n",
       "      <td>0.025671</td>\n",
       "      <td>0.150730</td>\n",
       "      <td>1.000000</td>\n",
       "      <td>...</td>\n",
       "      <td>-0.265457</td>\n",
       "      <td>0.249194</td>\n",
       "      <td>0.777218</td>\n",
       "      <td>0.556130</td>\n",
       "      <td>0.456671</td>\n",
       "    </tr>\n",
       "    <tr>\n",
       "      <th>...</th>\n",
       "      <td>...</td>\n",
       "      <td>...</td>\n",
       "      <td>...</td>\n",
       "      <td>...</td>\n",
       "      <td>...</td>\n",
       "      <td>...</td>\n",
       "      <td>...</td>\n",
       "      <td>...</td>\n",
       "      <td>...</td>\n",
       "      <td>...</td>\n",
       "      <td>...</td>\n",
       "    </tr>\n",
       "    <tr>\n",
       "      <th>Year_2012</th>\n",
       "      <td>-0.261633</td>\n",
       "      <td>0.017756</td>\n",
       "      <td>-0.008380</td>\n",
       "      <td>0.065304</td>\n",
       "      <td>-0.265457</td>\n",
       "      <td>...</td>\n",
       "      <td>1.000000</td>\n",
       "      <td>-0.331926</td>\n",
       "      <td>-0.336785</td>\n",
       "      <td>-0.240983</td>\n",
       "      <td>-0.197885</td>\n",
       "    </tr>\n",
       "    <tr>\n",
       "      <th>Year_2013</th>\n",
       "      <td>0.236651</td>\n",
       "      <td>0.014053</td>\n",
       "      <td>0.030889</td>\n",
       "      <td>0.071727</td>\n",
       "      <td>0.249194</td>\n",
       "      <td>...</td>\n",
       "      <td>-0.331926</td>\n",
       "      <td>1.000000</td>\n",
       "      <td>-0.339523</td>\n",
       "      <td>-0.242942</td>\n",
       "      <td>-0.199494</td>\n",
       "    </tr>\n",
       "    <tr>\n",
       "      <th>Year_2014</th>\n",
       "      <td>0.757745</td>\n",
       "      <td>0.014535</td>\n",
       "      <td>0.004257</td>\n",
       "      <td>0.059822</td>\n",
       "      <td>0.777218</td>\n",
       "      <td>...</td>\n",
       "      <td>-0.336785</td>\n",
       "      <td>-0.339523</td>\n",
       "      <td>1.000000</td>\n",
       "      <td>0.715539</td>\n",
       "      <td>0.587572</td>\n",
       "    </tr>\n",
       "    <tr>\n",
       "      <th>Status_FullTime</th>\n",
       "      <td>0.479288</td>\n",
       "      <td>0.012452</td>\n",
       "      <td>0.238922</td>\n",
       "      <td>0.302031</td>\n",
       "      <td>0.556130</td>\n",
       "      <td>...</td>\n",
       "      <td>-0.240983</td>\n",
       "      <td>-0.242942</td>\n",
       "      <td>0.715539</td>\n",
       "      <td>1.000000</td>\n",
       "      <td>-0.144835</td>\n",
       "    </tr>\n",
       "    <tr>\n",
       "      <th>Status_PartTime</th>\n",
       "      <td>0.518096</td>\n",
       "      <td>0.006165</td>\n",
       "      <td>-0.270719</td>\n",
       "      <td>-0.265117</td>\n",
       "      <td>0.456671</td>\n",
       "      <td>...</td>\n",
       "      <td>-0.197885</td>\n",
       "      <td>-0.199494</td>\n",
       "      <td>0.587572</td>\n",
       "      <td>-0.144835</td>\n",
       "      <td>1.000000</td>\n",
       "    </tr>\n",
       "  </tbody>\n",
       "</table>\n",
       "<p>11 rows × 11 columns</p>\n",
       "</div>"
      ],
      "text/plain": [
       "                        Id  JobTitle  TotalPay  TotalPayBenefits      Year  \\\n",
       "Id                1.000000  0.032402 -0.216823         -0.091983  0.968976   \n",
       "JobTitle          0.032402  1.000000  0.005954          0.014880  0.034738   \n",
       "TotalPay         -0.216823  0.005954  1.000000          0.975579  0.025671   \n",
       "TotalPayBenefits -0.091983  0.014880  0.975579          1.000000  0.150730   \n",
       "Year              0.968976  0.034738  0.025671          0.150730  1.000000   \n",
       "...                    ...       ...       ...               ...       ...   \n",
       "Year_2012        -0.261633  0.017756 -0.008380          0.065304 -0.265457   \n",
       "Year_2013         0.236651  0.014053  0.030889          0.071727  0.249194   \n",
       "Year_2014         0.757745  0.014535  0.004257          0.059822  0.777218   \n",
       "Status_FullTime   0.479288  0.012452  0.238922          0.302031  0.556130   \n",
       "Status_PartTime   0.518096  0.006165 -0.270719         -0.265117  0.456671   \n",
       "\n",
       "                       ...         Year_2012  Year_2013  Year_2014  \\\n",
       "Id                     ...         -0.261633   0.236651   0.757745   \n",
       "JobTitle               ...          0.017756   0.014053   0.014535   \n",
       "TotalPay               ...         -0.008380   0.030889   0.004257   \n",
       "TotalPayBenefits       ...          0.065304   0.071727   0.059822   \n",
       "Year                   ...         -0.265457   0.249194   0.777218   \n",
       "...                    ...               ...        ...        ...   \n",
       "Year_2012              ...          1.000000  -0.331926  -0.336785   \n",
       "Year_2013              ...         -0.331926   1.000000  -0.339523   \n",
       "Year_2014              ...         -0.336785  -0.339523   1.000000   \n",
       "Status_FullTime        ...         -0.240983  -0.242942   0.715539   \n",
       "Status_PartTime        ...         -0.197885  -0.199494   0.587572   \n",
       "\n",
       "                  Status_FullTime  Status_PartTime  \n",
       "Id                       0.479288         0.518096  \n",
       "JobTitle                 0.012452         0.006165  \n",
       "TotalPay                 0.238922        -0.270719  \n",
       "TotalPayBenefits         0.302031        -0.265117  \n",
       "Year                     0.556130         0.456671  \n",
       "...                           ...              ...  \n",
       "Year_2012               -0.240983        -0.197885  \n",
       "Year_2013               -0.242942        -0.199494  \n",
       "Year_2014                0.715539         0.587572  \n",
       "Status_FullTime          1.000000        -0.144835  \n",
       "Status_PartTime         -0.144835         1.000000  \n",
       "\n",
       "[11 rows x 11 columns]"
      ]
     },
     "execution_count": 48,
     "metadata": {},
     "output_type": "execute_result"
    }
   ],
   "source": [
    "df.corr()"
   ]
  },
  {
   "cell_type": "code",
   "execution_count": 49,
   "metadata": {
    "collapsed": true
   },
   "outputs": [],
   "source": [
    "## 'TotalPay' and 'TotalPayBenefits' seem to be strongly correlated (at 0.97) "
   ]
  },
  {
   "cell_type": "code",
   "execution_count": 50,
   "metadata": {
    "collapsed": false
   },
   "outputs": [
    {
     "data": {
      "image/png": "[encoded data removed]",
      "text/plain": [
       "<matplotlib.figure.Figure at 0x121c58dd0>"
      ]
     },
     "metadata": {},
     "output_type": "display_data"
    },
    {
     "data": {
      "text/plain": [
       "array([[ 1.        ,  0.97557901],\n",
       "       [ 0.97557901,  1.        ]])"
      ]
     },
     "execution_count": 50,
     "metadata": {},
     "output_type": "execute_result"
    }
   ],
   "source": [
    "plt.scatter(df.TotalPay, df.TotalPayBenefits)\n",
    "plt.show()\n",
    "np.corrcoef(df.TotalPay, df.TotalPayBenefits)"
   ]
  },
  {
   "cell_type": "code",
   "execution_count": 51,
   "metadata": {
    "collapsed": true
   },
   "outputs": [],
   "source": [
    "## 'TotalPay' and 'JobTitle\" don't seem to be strongly correlated (at 0.007)"
   ]
  },
  {
   "cell_type": "code",
   "execution_count": 52,
   "metadata": {
    "collapsed": false
   },
   "outputs": [
    {
     "data": {
      "image/png": "[encoded data removed]",
      "text/plain": [
       "<matplotlib.figure.Figure at 0x11d7f0710>"
      ]
     },
     "metadata": {},
     "output_type": "display_data"
    },
    {
     "data": {
      "text/plain": [
       "array([[ 1.        ,  0.00595414],\n",
       "       [ 0.00595414,  1.        ]])"
      ]
     },
     "execution_count": 52,
     "metadata": {},
     "output_type": "execute_result"
    }
   ],
   "source": [
    "plt.scatter(df.TotalPay, df.JobTitle)\n",
    "plt.show()\n",
    "np.corrcoef(df.TotalPay, df.JobTitle)"
   ]
  },
  {
   "cell_type": "code",
   "execution_count": 53,
   "metadata": {
    "collapsed": false
   },
   "outputs": [
    {
     "data": {
      "image/png": "[encoded data removed]",
      "text/plain": [
       "<matplotlib.figure.Figure at 0x11a4e5150>"
      ]
     },
     "metadata": {},
     "output_type": "display_data"
    },
    {
     "data": {
      "text/plain": [
       "array([[ 1.        , -0.21682263],\n",
       "       [-0.21682263,  1.        ]])"
      ]
     },
     "execution_count": 53,
     "metadata": {},
     "output_type": "execute_result"
    }
   ],
   "source": [
    "## 'TotalPay' and 'Id' seem to be negatively correlated at -0.20 \n",
    "## retain both as predictors for now.\n",
    "plt.scatter(df.TotalPay, df.Id)\n",
    "plt.show()\n",
    "np.corrcoef(df.TotalPay, df.Id)"
   ]
  },
  {
   "cell_type": "code",
   "execution_count": 54,
   "metadata": {
    "collapsed": false
   },
   "outputs": [
    {
     "data": {
      "text/plain": [
       "<seaborn.axisgrid.FacetGrid at 0x1218f1350>"
      ]
     },
     "execution_count": 54,
     "metadata": {},
     "output_type": "execute_result"
    },
    {
     "data": {
      "image/png": "[encoded data removed]",
      "text/plain": [
       "<matplotlib.figure.Figure at 0x12001d3d0>"
      ]
     },
     "metadata": {},
     "output_type": "display_data"
    }
   ],
   "source": [
    "sns.lmplot(x = 'TotalPay', y = 'TotalPayBenefits', data = df)"
   ]
  },
  {
   "cell_type": "code",
   "execution_count": 55,
   "metadata": {
    "collapsed": false
   },
   "outputs": [
    {
     "data": {
      "text/plain": [
       "<matplotlib.image.AxesImage at 0x11cdc2e10>"
      ]
     },
     "execution_count": 55,
     "metadata": {},
     "output_type": "execute_result"
    },
    {
     "data": {
      "image/png": "[encoded data removed]",
      "text/plain": [
       "<matplotlib.figure.Figure at 0x122512410>"
      ]
     },
     "metadata": {},
     "output_type": "display_data"
    }
   ],
   "source": [
    "plt.matshow(df.corr())"
   ]
  },
  {
   "cell_type": "code",
   "execution_count": 56,
   "metadata": {
    "collapsed": false
   },
   "outputs": [
    {
     "data": {
      "image/png": "[encoded data removed]",
      "text/plain": [
       "<matplotlib.figure.Figure at 0x11bb5a1d0>"
      ]
     },
     "metadata": {},
     "output_type": "display_data"
    }
   ],
   "source": [
    "corr = df.corr()\n",
    "\n",
    "figure = plt.figure()\n",
    "subplot = figure.add_subplot(1, 1, 1)\n",
    "figure.colorbar(subplot.matshow(df.corr()))\n",
    "subplot.set_xticklabels(corr.columns, rotation = 90)\n",
    "subplot.set_yticklabels(corr.columns)\n",
    "plt.show()"
   ]
  },
  {
   "cell_type": "markdown",
   "metadata": {},
   "source": [
    "# PROJECT 4"
   ]
  },
  {
   "cell_type": "code",
   "execution_count": 57,
   "metadata": {
    "collapsed": false
   },
   "outputs": [
    {
     "data": {
      "text/html": [
       "<table class=\"simpletable\">\n",
       "<caption>OLS Regression Results</caption>\n",
       "<tr>\n",
       "  <th>Dep. Variable:</th>        <td>TotalPay</td>     <th>  R-squared:         </th>  <td>   0.952</td>  \n",
       "</tr>\n",
       "<tr>\n",
       "  <th>Model:</th>                   <td>OLS</td>       <th>  Adj. R-squared:    </th>  <td>   0.952</td>  \n",
       "</tr>\n",
       "<tr>\n",
       "  <th>Method:</th>             <td>Least Squares</td>  <th>  F-statistic:       </th>  <td>2.898e+06</td> \n",
       "</tr>\n",
       "<tr>\n",
       "  <th>Date:</th>             <td>Tue, 12 Jul 2016</td> <th>  Prob (F-statistic):</th>   <td>  0.00</td>   \n",
       "</tr>\n",
       "<tr>\n",
       "  <th>Time:</th>                 <td>17:55:30</td>     <th>  Log-Likelihood:    </th> <td>-1.5709e+06</td>\n",
       "</tr>\n",
       "<tr>\n",
       "  <th>No. Observations:</th>      <td>146898</td>      <th>  AIC:               </th>  <td>3.142e+06</td> \n",
       "</tr>\n",
       "<tr>\n",
       "  <th>Df Residuals:</th>          <td>146896</td>      <th>  BIC:               </th>  <td>3.142e+06</td> \n",
       "</tr>\n",
       "<tr>\n",
       "  <th>Df Model:</th>              <td>     1</td>      <th>                     </th>      <td> </td>     \n",
       "</tr>\n",
       "<tr>\n",
       "  <th>Covariance Type:</th>      <td>nonrobust</td>    <th>                     </th>      <td> </td>     \n",
       "</tr>\n",
       "</table>\n",
       "<table class=\"simpletable\">\n",
       "<tr>\n",
       "          <td></td>            <th>coef</th>     <th>std err</th>      <th>t</th>      <th>P>|t|</th> <th>[95.0% Conf. Int.]</th> \n",
       "</tr>\n",
       "<tr>\n",
       "  <th>Intercept</th>        <td> 1410.0629</td> <td>   50.939</td> <td>   27.681</td> <td> 0.000</td> <td> 1310.223  1509.902</td>\n",
       "</tr>\n",
       "<tr>\n",
       "  <th>TotalPayBenefits</th> <td>    0.7826</td> <td>    0.000</td> <td> 1702.310</td> <td> 0.000</td> <td>    0.782     0.783</td>\n",
       "</tr>\n",
       "</table>\n",
       "<table class=\"simpletable\">\n",
       "<tr>\n",
       "  <th>Omnibus:</th>       <td>32352.449</td> <th>  Durbin-Watson:     </th> <td>   0.224</td> \n",
       "</tr>\n",
       "<tr>\n",
       "  <th>Prob(Omnibus):</th>  <td> 0.000</td>   <th>  Jarque-Bera (JB):  </th> <td>61880.797</td>\n",
       "</tr>\n",
       "<tr>\n",
       "  <th>Skew:</th>           <td> 1.364</td>   <th>  Prob(JB):          </th> <td>    0.00</td> \n",
       "</tr>\n",
       "<tr>\n",
       "  <th>Kurtosis:</th>       <td> 4.634</td>   <th>  Cond. No.          </th> <td>2.03e+05</td> \n",
       "</tr>\n",
       "</table>"
      ],
      "text/plain": [
       "<class 'statsmodels.iolib.summary.Summary'>\n",
       "\"\"\"\n",
       "                            OLS Regression Results                            \n",
       "==============================================================================\n",
       "Dep. Variable:               TotalPay   R-squared:                       0.952\n",
       "Model:                            OLS   Adj. R-squared:                  0.952\n",
       "Method:                 Least Squares   F-statistic:                 2.898e+06\n",
       "Date:                Tue, 12 Jul 2016   Prob (F-statistic):               0.00\n",
       "Time:                        17:55:30   Log-Likelihood:            -1.5709e+06\n",
       "No. Observations:              146898   AIC:                         3.142e+06\n",
       "Df Residuals:                  146896   BIC:                         3.142e+06\n",
       "Df Model:                           1                                         \n",
       "Covariance Type:            nonrobust                                         \n",
       "====================================================================================\n",
       "                       coef    std err          t      P>|t|      [95.0% Conf. Int.]\n",
       "------------------------------------------------------------------------------------\n",
       "Intercept         1410.0629     50.939     27.681      0.000      1310.223  1509.902\n",
       "TotalPayBenefits     0.7826      0.000   1702.310      0.000         0.782     0.783\n",
       "==============================================================================\n",
       "Omnibus:                    32352.449   Durbin-Watson:                   0.224\n",
       "Prob(Omnibus):                  0.000   Jarque-Bera (JB):            61880.797\n",
       "Skew:                           1.364   Prob(JB):                         0.00\n",
       "Kurtosis:                       4.634   Cond. No.                     2.03e+05\n",
       "==============================================================================\n",
       "\n",
       "Warnings:\n",
       "[1] Standard Errors assume that the covariance matrix of the errors is correctly specified.\n",
       "[2] The condition number is large, 2.03e+05. This might indicate that there are\n",
       "strong multicollinearity or other numerical problems.\n",
       "\"\"\""
      ]
     },
     "execution_count": 57,
     "metadata": {},
     "output_type": "execute_result"
    }
   ],
   "source": [
    "model = smf.ols(formula = 'TotalPay ~ TotalPayBenefits', data = df).fit()\n",
    "\n",
    "model.summary()"
   ]
  },
  {
   "cell_type": "code",
   "execution_count": 58,
   "metadata": {
    "collapsed": false
   },
   "outputs": [
    {
     "data": {
      "text/plain": [
       "2897859.065073132"
      ]
     },
     "execution_count": 58,
     "metadata": {},
     "output_type": "execute_result"
    }
   ],
   "source": [
    "model.fvalue"
   ]
  },
  {
   "cell_type": "code",
   "execution_count": 59,
   "metadata": {
    "collapsed": false
   },
   "outputs": [
    {
     "data": {
      "text/plain": [
       "0.95175441148450091"
      ]
     },
     "execution_count": 59,
     "metadata": {},
     "output_type": "execute_result"
    }
   ],
   "source": [
    "model.rsquared"
   ]
  },
  {
   "cell_type": "markdown",
   "metadata": {},
   "source": [
    "### Checking modeling assumption"
   ]
  },
  {
   "cell_type": "code",
   "execution_count": 60,
   "metadata": {
    "collapsed": false
   },
   "outputs": [
    {
     "data": {
      "image/png": "[encoded data removed]",
      "text/plain": [
       "<matplotlib.figure.Figure at 0x1280cdbd0>"
      ]
     },
     "metadata": {},
     "output_type": "display_data"
    }
   ],
   "source": [
    "figure = plt.figure(figsize = (12, 8))\n",
    "figure = sm.graphics.plot_regress_exog(model, 'TotalPayBenefits', fig = figure)"
   ]
  },
  {
   "cell_type": "code",
   "execution_count": 61,
   "metadata": {
    "collapsed": false
   },
   "outputs": [
    {
     "data": {
      "image/png": "[encoded data removed]",
      "text/plain": [
       "<matplotlib.figure.Figure at 0x121d41e50>"
      ]
     },
     "metadata": {},
     "output_type": "display_data"
    }
   ],
   "source": [
    "model = smf.ols(formula = 'TotalPay ~ TotalPayBenefits', data = df).fit()\n",
    "\n",
    "model.resid.plot(kind = 'hist', bins = 250, figsize = (8, 8))\n",
    "\n",
    "plt.show()"
   ]
  },
  {
   "cell_type": "code",
   "execution_count": 62,
   "metadata": {
    "collapsed": false
   },
   "outputs": [
    {
     "data": {
      "image/png": "[encoded data removed]",
      "text/plain": [
       "<matplotlib.figure.Figure at 0x11fee8d10>"
      ]
     },
     "metadata": {},
     "output_type": "display_data"
    }
   ],
   "source": [
    "figure, ax = plt.subplots(figsize = (8, 8))\n",
    "figure = sm.qqplot(model.resid, line = 's', ax = ax)\n",
    "\n",
    "plt.show()"
   ]
  },
  {
   "cell_type": "code",
   "execution_count": 63,
   "metadata": {
    "collapsed": false
   },
   "outputs": [
    {
     "data": {
      "image/png": "[encoded data removed]",
      "text/plain": [
       "<matplotlib.figure.Figure at 0x12d0bcb10>"
      ]
     },
     "metadata": {},
     "output_type": "display_data"
    }
   ],
   "source": [
    "normal_array = np.random.normal(0, 1, size = 100)\n",
    "\n",
    "figure, ax = plt.subplots(figsize = (8, 8))\n",
    "figure = sm.qqplot(normal_array, line = '45', ax = ax)\n",
    "plt.show()"
   ]
  },
  {
   "cell_type": "code",
   "execution_count": 64,
   "metadata": {
    "collapsed": false
   },
   "outputs": [
    {
     "data": {
      "image/png": "[encoded data removed]",
      "text/plain": [
       "<matplotlib.figure.Figure at 0x12d8a6090>"
      ]
     },
     "metadata": {},
     "output_type": "display_data"
    }
   ],
   "source": [
    "normal_array = np.random.normal(10, 1, size = 100)\n",
    "\n",
    "figure, ax = plt.subplots(figsize = (8, 8))\n",
    "figure = sm.qqplot(normal_array, line = '45', ax = ax)\n",
    "plt.show()"
   ]
  },
  {
   "cell_type": "code",
   "execution_count": 65,
   "metadata": {
    "collapsed": false
   },
   "outputs": [
    {
     "data": {
      "image/png": "[encoded data removed]",
      "text/plain": [
       "<matplotlib.figure.Figure at 0x12d77b7d0>"
      ]
     },
     "metadata": {},
     "output_type": "display_data"
    }
   ],
   "source": [
    "normal_array = np.random.normal(10, 1, size = 100)\n",
    "\n",
    "figure, ax = plt.subplots(figsize = (8, 8))\n",
    "figure = sm.qqplot(normal_array, line = 's', ax = ax)\n",
    "plt.show()"
   ]
  },
  {
   "cell_type": "code",
   "execution_count": 66,
   "metadata": {
    "collapsed": false
   },
   "outputs": [
    {
     "data": {
      "image/png": "[encoded data removed]",
      "text/plain": [
       "<matplotlib.figure.Figure at 0x11d37e250>"
      ]
     },
     "metadata": {},
     "output_type": "display_data"
    }
   ],
   "source": [
    "normal_array = np.random.normal(0, 10, size = 100)\n",
    "\n",
    "figure, ax = plt.subplots(figsize = (8, 8))\n",
    "figure = sm.qqplot(normal_array, line = '45', ax = ax)\n",
    "plt.show()"
   ]
  },
  {
   "cell_type": "code",
   "execution_count": 67,
   "metadata": {
    "collapsed": false
   },
   "outputs": [
    {
     "data": {
      "text/html": [
       "<table class=\"simpletable\">\n",
       "<caption>OLS Regression Results</caption>\n",
       "<tr>\n",
       "  <th>Dep. Variable:</th>        <td>TotalPay</td>     <th>  R-squared:         </th>  <td>   0.985</td>  \n",
       "</tr>\n",
       "<tr>\n",
       "  <th>Model:</th>                   <td>OLS</td>       <th>  Adj. R-squared:    </th>  <td>   0.985</td>  \n",
       "</tr>\n",
       "<tr>\n",
       "  <th>Method:</th>             <td>Least Squares</td>  <th>  F-statistic:       </th>  <td>9.922e+06</td> \n",
       "</tr>\n",
       "<tr>\n",
       "  <th>Date:</th>             <td>Tue, 12 Jul 2016</td> <th>  Prob (F-statistic):</th>   <td>  0.00</td>   \n",
       "</tr>\n",
       "<tr>\n",
       "  <th>Time:</th>                 <td>17:55:47</td>     <th>  Log-Likelihood:    </th> <td>-1.5713e+06</td>\n",
       "</tr>\n",
       "<tr>\n",
       "  <th>No. Observations:</th>      <td>146898</td>      <th>  AIC:               </th>  <td>3.143e+06</td> \n",
       "</tr>\n",
       "<tr>\n",
       "  <th>Df Residuals:</th>          <td>146897</td>      <th>  BIC:               </th>  <td>3.143e+06</td> \n",
       "</tr>\n",
       "<tr>\n",
       "  <th>Df Model:</th>              <td>     1</td>      <th>                     </th>      <td> </td>     \n",
       "</tr>\n",
       "<tr>\n",
       "  <th>Covariance Type:</th>      <td>nonrobust</td>    <th>                     </th>      <td> </td>     \n",
       "</tr>\n",
       "</table>\n",
       "<table class=\"simpletable\">\n",
       "<tr>\n",
       "          <td></td>            <th>coef</th>     <th>std err</th>      <th>t</th>      <th>P>|t|</th> <th>[95.0% Conf. Int.]</th> \n",
       "</tr>\n",
       "<tr>\n",
       "  <th>TotalPayBenefits</th> <td>    0.7932</td> <td>    0.000</td> <td> 3149.998</td> <td> 0.000</td> <td>    0.793     0.794</td>\n",
       "</tr>\n",
       "</table>\n",
       "<table class=\"simpletable\">\n",
       "<tr>\n",
       "  <th>Omnibus:</th>       <td>28723.420</td> <th>  Durbin-Watson:     </th> <td>   0.223</td> \n",
       "</tr>\n",
       "<tr>\n",
       "  <th>Prob(Omnibus):</th>  <td> 0.000</td>   <th>  Jarque-Bera (JB):  </th> <td>50481.796</td>\n",
       "</tr>\n",
       "<tr>\n",
       "  <th>Skew:</th>           <td> 1.272</td>   <th>  Prob(JB):          </th> <td>    0.00</td> \n",
       "</tr>\n",
       "<tr>\n",
       "  <th>Kurtosis:</th>       <td> 4.332</td>   <th>  Cond. No.          </th> <td>    1.00</td> \n",
       "</tr>\n",
       "</table>"
      ],
      "text/plain": [
       "<class 'statsmodels.iolib.summary.Summary'>\n",
       "\"\"\"\n",
       "                            OLS Regression Results                            \n",
       "==============================================================================\n",
       "Dep. Variable:               TotalPay   R-squared:                       0.985\n",
       "Model:                            OLS   Adj. R-squared:                  0.985\n",
       "Method:                 Least Squares   F-statistic:                 9.922e+06\n",
       "Date:                Tue, 12 Jul 2016   Prob (F-statistic):               0.00\n",
       "Time:                        17:55:47   Log-Likelihood:            -1.5713e+06\n",
       "No. Observations:              146898   AIC:                         3.143e+06\n",
       "Df Residuals:                  146897   BIC:                         3.143e+06\n",
       "Df Model:                           1                                         \n",
       "Covariance Type:            nonrobust                                         \n",
       "====================================================================================\n",
       "                       coef    std err          t      P>|t|      [95.0% Conf. Int.]\n",
       "------------------------------------------------------------------------------------\n",
       "TotalPayBenefits     0.7932      0.000   3149.998      0.000         0.793     0.794\n",
       "==============================================================================\n",
       "Omnibus:                    28723.420   Durbin-Watson:                   0.223\n",
       "Prob(Omnibus):                  0.000   Jarque-Bera (JB):            50481.796\n",
       "Skew:                           1.272   Prob(JB):                         0.00\n",
       "Kurtosis:                       4.332   Cond. No.                         1.00\n",
       "==============================================================================\n",
       "\n",
       "Warnings:\n",
       "[1] Standard Errors assume that the covariance matrix of the errors is correctly specified.\n",
       "\"\"\""
      ]
     },
     "execution_count": 67,
     "metadata": {},
     "output_type": "execute_result"
    }
   ],
   "source": [
    "model = smf.ols(formula = 'TotalPay ~ 0 + TotalPayBenefits', data = df).fit()\n",
    "\n",
    "model.summary()"
   ]
  },
  {
   "cell_type": "markdown",
   "metadata": {},
   "source": []
  },
  {
   "cell_type": "markdown",
   "metadata": {},
   "source": [
    "### Inference and Fit"
   ]
  },
  {
   "cell_type": "code",
   "execution_count": 68,
   "metadata": {
    "collapsed": false
   },
   "outputs": [
    {
     "data": {
      "text/plain": [
       "<seaborn.axisgrid.FacetGrid at 0x12d0c88d0>"
      ]
     },
     "execution_count": 68,
     "metadata": {},
     "output_type": "execute_result"
    },
    {
     "data": {
      "image/png": "[encoded data removed]",
      "text/plain": [
       "<matplotlib.figure.Figure at 0x12b986c50>"
      ]
     },
     "metadata": {},
     "output_type": "display_data"
    }
   ],
   "source": [
    "sns.lmplot('TotalPay', 'TotalPayBenefits', df, size = 8)"
   ]
  },
  {
   "cell_type": "code",
   "execution_count": 69,
   "metadata": {
    "collapsed": false
   },
   "outputs": [
    {
     "data": {
      "text/plain": [
       "<matplotlib.axes._subplots.AxesSubplot at 0x12b9f6a90>"
      ]
     },
     "execution_count": 69,
     "metadata": {},
     "output_type": "execute_result"
    },
    {
     "data": {
      "image/png": "[encoded data removed]",
      "text/plain": [
       "<matplotlib.figure.Figure at 0x12b9f6790>"
      ]
     },
     "metadata": {},
     "output_type": "display_data"
    }
   ],
   "source": [
    "df[ ['TotalPay', 'TotalPayBenefits'] ].plot(kind = 'scatter', x = 'TotalPay', y = 'TotalPayBenefits', s = 100, figsize = (8, 8))"
   ]
  },
  {
   "cell_type": "markdown",
   "metadata": {},
   "source": [
    "Adding JobTitle did not improve R2 significantly vs. TotalPayBenefits alone."
   ]
  },
  {
   "cell_type": "markdown",
   "metadata": {},
   "source": [
    "### Cross-Validation"
   ]
  },
  {
   "cell_type": "code",
   "execution_count": 70,
   "metadata": {
    "collapsed": false
   },
   "outputs": [],
   "source": [
    "train_df = df.sample(frac = .6, random_state = 0).sort_index()"
   ]
  },
  {
   "cell_type": "code",
   "execution_count": 71,
   "metadata": {
    "collapsed": false
   },
   "outputs": [
    {
     "data": {
      "text/html": [
       "<div>\n",
       "<table border=\"1\" class=\"dataframe\">\n",
       "  <thead>\n",
       "    <tr style=\"text-align: right;\">\n",
       "      <th></th>\n",
       "      <th>Id</th>\n",
       "      <th>EmployeeName</th>\n",
       "      <th>JobTitle</th>\n",
       "      <th>BasePay</th>\n",
       "      <th>OvertimePay</th>\n",
       "      <th>...</th>\n",
       "      <th>Year_2012</th>\n",
       "      <th>Year_2013</th>\n",
       "      <th>Year_2014</th>\n",
       "      <th>Status_FullTime</th>\n",
       "      <th>Status_PartTime</th>\n",
       "    </tr>\n",
       "  </thead>\n",
       "  <tbody>\n",
       "    <tr>\n",
       "      <th>28</th>\n",
       "      <td>29</td>\n",
       "      <td>DENISE SCHMITT</td>\n",
       "      <td>21278</td>\n",
       "      <td>261718</td>\n",
       "      <td>0</td>\n",
       "      <td>...</td>\n",
       "      <td>0.0</td>\n",
       "      <td>0.0</td>\n",
       "      <td>0.0</td>\n",
       "      <td>0.0</td>\n",
       "      <td>0.0</td>\n",
       "    </tr>\n",
       "    <tr>\n",
       "      <th>29</th>\n",
       "      <td>30</td>\n",
       "      <td>MONICA FIELDS</td>\n",
       "      <td>68587</td>\n",
       "      <td>246226</td>\n",
       "      <td>0</td>\n",
       "      <td>...</td>\n",
       "      <td>0.0</td>\n",
       "      <td>0.0</td>\n",
       "      <td>0.0</td>\n",
       "      <td>0.0</td>\n",
       "      <td>0.0</td>\n",
       "    </tr>\n",
       "    <tr>\n",
       "      <th>31</th>\n",
       "      <td>32</td>\n",
       "      <td>DAVID SHINN</td>\n",
       "      <td>20879</td>\n",
       "      <td>254028</td>\n",
       "      <td>0</td>\n",
       "      <td>...</td>\n",
       "      <td>0.0</td>\n",
       "      <td>0.0</td>\n",
       "      <td>0.0</td>\n",
       "      <td>0.0</td>\n",
       "      <td>0.0</td>\n",
       "    </tr>\n",
       "    <tr>\n",
       "      <th>34</th>\n",
       "      <td>35</td>\n",
       "      <td>JOSE VELO</td>\n",
       "      <td>44218</td>\n",
       "      <td>177781</td>\n",
       "      <td>59925</td>\n",
       "      <td>...</td>\n",
       "      <td>0.0</td>\n",
       "      <td>0.0</td>\n",
       "      <td>0.0</td>\n",
       "      <td>0.0</td>\n",
       "      <td>0.0</td>\n",
       "    </tr>\n",
       "    <tr>\n",
       "      <th>36</th>\n",
       "      <td>37</td>\n",
       "      <td>SUSAN CURRIN</td>\n",
       "      <td>94278</td>\n",
       "      <td>245124</td>\n",
       "      <td>0</td>\n",
       "      <td>...</td>\n",
       "      <td>0.0</td>\n",
       "      <td>0.0</td>\n",
       "      <td>0.0</td>\n",
       "      <td>0.0</td>\n",
       "      <td>0.0</td>\n",
       "    </tr>\n",
       "    <tr>\n",
       "      <th>...</th>\n",
       "      <td>...</td>\n",
       "      <td>...</td>\n",
       "      <td>...</td>\n",
       "      <td>...</td>\n",
       "      <td>...</td>\n",
       "      <td>...</td>\n",
       "      <td>...</td>\n",
       "      <td>...</td>\n",
       "      <td>...</td>\n",
       "      <td>...</td>\n",
       "      <td>...</td>\n",
       "    </tr>\n",
       "    <tr>\n",
       "      <th>148536</th>\n",
       "      <td>148537</td>\n",
       "      <td>Kevin W Harper</td>\n",
       "      <td>58141</td>\n",
       "      <td>100.00</td>\n",
       "      <td>0.00</td>\n",
       "      <td>...</td>\n",
       "      <td>0.0</td>\n",
       "      <td>0.0</td>\n",
       "      <td>1.0</td>\n",
       "      <td>0.0</td>\n",
       "      <td>1.0</td>\n",
       "    </tr>\n",
       "    <tr>\n",
       "      <th>148537</th>\n",
       "      <td>148538</td>\n",
       "      <td>Ken Prag</td>\n",
       "      <td>57191</td>\n",
       "      <td>100.00</td>\n",
       "      <td>0.00</td>\n",
       "      <td>...</td>\n",
       "      <td>0.0</td>\n",
       "      <td>0.0</td>\n",
       "      <td>1.0</td>\n",
       "      <td>0.0</td>\n",
       "      <td>1.0</td>\n",
       "    </tr>\n",
       "    <tr>\n",
       "      <th>148538</th>\n",
       "      <td>148539</td>\n",
       "      <td>Roy Kaushik</td>\n",
       "      <td>91657</td>\n",
       "      <td>100.00</td>\n",
       "      <td>0.00</td>\n",
       "      <td>...</td>\n",
       "      <td>0.0</td>\n",
       "      <td>0.0</td>\n",
       "      <td>1.0</td>\n",
       "      <td>0.0</td>\n",
       "      <td>1.0</td>\n",
       "    </tr>\n",
       "    <tr>\n",
       "      <th>148539</th>\n",
       "      <td>148540</td>\n",
       "      <td>Hope A Schmeltzer</td>\n",
       "      <td>39754</td>\n",
       "      <td>100.00</td>\n",
       "      <td>0.00</td>\n",
       "      <td>...</td>\n",
       "      <td>0.0</td>\n",
       "      <td>0.0</td>\n",
       "      <td>1.0</td>\n",
       "      <td>0.0</td>\n",
       "      <td>1.0</td>\n",
       "    </tr>\n",
       "    <tr>\n",
       "      <th>148540</th>\n",
       "      <td>148541</td>\n",
       "      <td>Alexander Macdonald</td>\n",
       "      <td>4192</td>\n",
       "      <td>100.00</td>\n",
       "      <td>0.00</td>\n",
       "      <td>...</td>\n",
       "      <td>0.0</td>\n",
       "      <td>0.0</td>\n",
       "      <td>1.0</td>\n",
       "      <td>0.0</td>\n",
       "      <td>1.0</td>\n",
       "    </tr>\n",
       "  </tbody>\n",
       "</table>\n",
       "<p>88139 rows × 17 columns</p>\n",
       "</div>"
      ],
      "text/plain": [
       "            Id         EmployeeName  JobTitle BasePay OvertimePay  \\\n",
       "28          29       DENISE SCHMITT     21278  261718           0   \n",
       "29          30        MONICA FIELDS     68587  246226           0   \n",
       "31          32          DAVID SHINN     20879  254028           0   \n",
       "34          35            JOSE VELO     44218  177781       59925   \n",
       "36          37         SUSAN CURRIN     94278  245124           0   \n",
       "...        ...                  ...       ...     ...         ...   \n",
       "148536  148537       Kevin W Harper     58141  100.00        0.00   \n",
       "148537  148538             Ken Prag     57191  100.00        0.00   \n",
       "148538  148539          Roy Kaushik     91657  100.00        0.00   \n",
       "148539  148540    Hope A Schmeltzer     39754  100.00        0.00   \n",
       "148540  148541  Alexander Macdonald      4192  100.00        0.00   \n",
       "\n",
       "             ...        Year_2012 Year_2013  Year_2014  Status_FullTime  \\\n",
       "28           ...              0.0       0.0        0.0              0.0   \n",
       "29           ...              0.0       0.0        0.0              0.0   \n",
       "31           ...              0.0       0.0        0.0              0.0   \n",
       "34           ...              0.0       0.0        0.0              0.0   \n",
       "36           ...              0.0       0.0        0.0              0.0   \n",
       "...          ...              ...       ...        ...              ...   \n",
       "148536       ...              0.0       0.0        1.0              0.0   \n",
       "148537       ...              0.0       0.0        1.0              0.0   \n",
       "148538       ...              0.0       0.0        1.0              0.0   \n",
       "148539       ...              0.0       0.0        1.0              0.0   \n",
       "148540       ...              0.0       0.0        1.0              0.0   \n",
       "\n",
       "        Status_PartTime  \n",
       "28                  0.0  \n",
       "29                  0.0  \n",
       "31                  0.0  \n",
       "34                  0.0  \n",
       "36                  0.0  \n",
       "...                 ...  \n",
       "148536              1.0  \n",
       "148537              1.0  \n",
       "148538              1.0  \n",
       "148539              1.0  \n",
       "148540              1.0  \n",
       "\n",
       "[88139 rows x 17 columns]"
      ]
     },
     "execution_count": 71,
     "metadata": {},
     "output_type": "execute_result"
    }
   ],
   "source": [
    "train_df"
   ]
  },
  {
   "cell_type": "code",
   "execution_count": 72,
   "metadata": {
    "collapsed": true
   },
   "outputs": [],
   "source": [
    "test_df = df.drop(train_df.index)"
   ]
  },
  {
   "cell_type": "code",
   "execution_count": 73,
   "metadata": {
    "collapsed": false
   },
   "outputs": [
    {
     "data": {
      "text/html": [
       "<div>\n",
       "<table border=\"1\" class=\"dataframe\">\n",
       "  <thead>\n",
       "    <tr style=\"text-align: right;\">\n",
       "      <th></th>\n",
       "      <th>Id</th>\n",
       "      <th>EmployeeName</th>\n",
       "      <th>JobTitle</th>\n",
       "      <th>BasePay</th>\n",
       "      <th>OvertimePay</th>\n",
       "      <th>...</th>\n",
       "      <th>Year_2012</th>\n",
       "      <th>Year_2013</th>\n",
       "      <th>Year_2014</th>\n",
       "      <th>Status_FullTime</th>\n",
       "      <th>Status_PartTime</th>\n",
       "    </tr>\n",
       "  </thead>\n",
       "  <tbody>\n",
       "    <tr>\n",
       "      <th>30</th>\n",
       "      <td>31</td>\n",
       "      <td>HARLAN KELLY-JR</td>\n",
       "      <td>37912</td>\n",
       "      <td>234325</td>\n",
       "      <td>0</td>\n",
       "      <td>...</td>\n",
       "      <td>0.0</td>\n",
       "      <td>0.0</td>\n",
       "      <td>0.0</td>\n",
       "      <td>0.0</td>\n",
       "      <td>0.0</td>\n",
       "    </tr>\n",
       "    <tr>\n",
       "      <th>32</th>\n",
       "      <td>33</td>\n",
       "      <td>GARY AMELIO</td>\n",
       "      <td>34367</td>\n",
       "      <td>248896</td>\n",
       "      <td>0</td>\n",
       "      <td>...</td>\n",
       "      <td>0.0</td>\n",
       "      <td>0.0</td>\n",
       "      <td>0.0</td>\n",
       "      <td>0.0</td>\n",
       "      <td>0.0</td>\n",
       "    </tr>\n",
       "    <tr>\n",
       "      <th>33</th>\n",
       "      <td>34</td>\n",
       "      <td>JOHN TURSI</td>\n",
       "      <td>43755</td>\n",
       "      <td>104861</td>\n",
       "      <td>50227.6</td>\n",
       "      <td>...</td>\n",
       "      <td>0.0</td>\n",
       "      <td>0.0</td>\n",
       "      <td>0.0</td>\n",
       "      <td>0.0</td>\n",
       "      <td>0.0</td>\n",
       "    </tr>\n",
       "    <tr>\n",
       "      <th>35</th>\n",
       "      <td>36</td>\n",
       "      <td>KHOA TRINH</td>\n",
       "      <td>55306</td>\n",
       "      <td>101953</td>\n",
       "      <td>139103</td>\n",
       "      <td>...</td>\n",
       "      <td>0.0</td>\n",
       "      <td>0.0</td>\n",
       "      <td>0.0</td>\n",
       "      <td>0.0</td>\n",
       "      <td>0.0</td>\n",
       "    </tr>\n",
       "    <tr>\n",
       "      <th>38</th>\n",
       "      <td>39</td>\n",
       "      <td>JONES WONG</td>\n",
       "      <td>43991</td>\n",
       "      <td>132202</td>\n",
       "      <td>52648.9</td>\n",
       "      <td>...</td>\n",
       "      <td>0.0</td>\n",
       "      <td>0.0</td>\n",
       "      <td>0.0</td>\n",
       "      <td>0.0</td>\n",
       "      <td>0.0</td>\n",
       "    </tr>\n",
       "    <tr>\n",
       "      <th>...</th>\n",
       "      <td>...</td>\n",
       "      <td>...</td>\n",
       "      <td>...</td>\n",
       "      <td>...</td>\n",
       "      <td>...</td>\n",
       "      <td>...</td>\n",
       "      <td>...</td>\n",
       "      <td>...</td>\n",
       "      <td>...</td>\n",
       "      <td>...</td>\n",
       "      <td>...</td>\n",
       "    </tr>\n",
       "    <tr>\n",
       "      <th>148518</th>\n",
       "      <td>148519</td>\n",
       "      <td>Juan F Castro</td>\n",
       "      <td>53331</td>\n",
       "      <td>110.20</td>\n",
       "      <td>0.00</td>\n",
       "      <td>...</td>\n",
       "      <td>0.0</td>\n",
       "      <td>0.0</td>\n",
       "      <td>1.0</td>\n",
       "      <td>0.0</td>\n",
       "      <td>1.0</td>\n",
       "    </tr>\n",
       "    <tr>\n",
       "      <th>148520</th>\n",
       "      <td>148521</td>\n",
       "      <td>Robert J Gowan</td>\n",
       "      <td>89587</td>\n",
       "      <td>0.00</td>\n",
       "      <td>0.00</td>\n",
       "      <td>...</td>\n",
       "      <td>0.0</td>\n",
       "      <td>0.0</td>\n",
       "      <td>1.0</td>\n",
       "      <td>0.0</td>\n",
       "      <td>1.0</td>\n",
       "    </tr>\n",
       "    <tr>\n",
       "      <th>148524</th>\n",
       "      <td>148525</td>\n",
       "      <td>Alicia N Wiley Powell</td>\n",
       "      <td>4614</td>\n",
       "      <td>0.00</td>\n",
       "      <td>0.00</td>\n",
       "      <td>...</td>\n",
       "      <td>0.0</td>\n",
       "      <td>0.0</td>\n",
       "      <td>1.0</td>\n",
       "      <td>0.0</td>\n",
       "      <td>1.0</td>\n",
       "    </tr>\n",
       "    <tr>\n",
       "      <th>148530</th>\n",
       "      <td>148531</td>\n",
       "      <td>Janet N Qiu</td>\n",
       "      <td>46783</td>\n",
       "      <td>104.90</td>\n",
       "      <td>0.00</td>\n",
       "      <td>...</td>\n",
       "      <td>0.0</td>\n",
       "      <td>0.0</td>\n",
       "      <td>1.0</td>\n",
       "      <td>0.0</td>\n",
       "      <td>1.0</td>\n",
       "    </tr>\n",
       "    <tr>\n",
       "      <th>148531</th>\n",
       "      <td>148532</td>\n",
       "      <td>Jose D Bermudez</td>\n",
       "      <td>52045</td>\n",
       "      <td>104.90</td>\n",
       "      <td>0.00</td>\n",
       "      <td>...</td>\n",
       "      <td>0.0</td>\n",
       "      <td>0.0</td>\n",
       "      <td>1.0</td>\n",
       "      <td>0.0</td>\n",
       "      <td>1.0</td>\n",
       "    </tr>\n",
       "  </tbody>\n",
       "</table>\n",
       "<p>58759 rows × 17 columns</p>\n",
       "</div>"
      ],
      "text/plain": [
       "            Id           EmployeeName  JobTitle BasePay OvertimePay  \\\n",
       "30          31        HARLAN KELLY-JR     37912  234325           0   \n",
       "32          33            GARY AMELIO     34367  248896           0   \n",
       "33          34             JOHN TURSI     43755  104861     50227.6   \n",
       "35          36             KHOA TRINH     55306  101953      139103   \n",
       "38          39             JONES WONG     43991  132202     52648.9   \n",
       "...        ...                    ...       ...     ...         ...   \n",
       "148518  148519          Juan F Castro     53331  110.20        0.00   \n",
       "148520  148521         Robert J Gowan     89587    0.00        0.00   \n",
       "148524  148525  Alicia N Wiley Powell      4614    0.00        0.00   \n",
       "148530  148531            Janet N Qiu     46783  104.90        0.00   \n",
       "148531  148532        Jose D Bermudez     52045  104.90        0.00   \n",
       "\n",
       "             ...        Year_2012 Year_2013  Year_2014  Status_FullTime  \\\n",
       "30           ...              0.0       0.0        0.0              0.0   \n",
       "32           ...              0.0       0.0        0.0              0.0   \n",
       "33           ...              0.0       0.0        0.0              0.0   \n",
       "35           ...              0.0       0.0        0.0              0.0   \n",
       "38           ...              0.0       0.0        0.0              0.0   \n",
       "...          ...              ...       ...        ...              ...   \n",
       "148518       ...              0.0       0.0        1.0              0.0   \n",
       "148520       ...              0.0       0.0        1.0              0.0   \n",
       "148524       ...              0.0       0.0        1.0              0.0   \n",
       "148530       ...              0.0       0.0        1.0              0.0   \n",
       "148531       ...              0.0       0.0        1.0              0.0   \n",
       "\n",
       "        Status_PartTime  \n",
       "30                  0.0  \n",
       "32                  0.0  \n",
       "33                  0.0  \n",
       "35                  0.0  \n",
       "38                  0.0  \n",
       "...                 ...  \n",
       "148518              1.0  \n",
       "148520              1.0  \n",
       "148524              1.0  \n",
       "148530              1.0  \n",
       "148531              1.0  \n",
       "\n",
       "[58759 rows x 17 columns]"
      ]
     },
     "execution_count": 73,
     "metadata": {},
     "output_type": "execute_result"
    }
   ],
   "source": [
    "test_df "
   ]
  },
  {
   "cell_type": "code",
   "execution_count": 74,
   "metadata": {
    "collapsed": true
   },
   "outputs": [],
   "source": [
    "# Generate the feature vector and target variable\n",
    "#from sklearn.feature_extraction.text import CountVectorizer\n",
    "from sklearn import neighbors, metrics, grid_search, cross_validation"
   ]
  },
  {
   "cell_type": "code",
   "execution_count": 75,
   "metadata": {
    "collapsed": false
   },
   "outputs": [],
   "source": [
    "train_df = df.sample(frac = .6, random_state = 1)\n",
    "test_df = df.drop(train_df.index)"
   ]
  },
  {
   "cell_type": "code",
   "execution_count": 76,
   "metadata": {
    "collapsed": false
   },
   "outputs": [
    {
     "data": {
      "text/plain": [
       "88139"
      ]
     },
     "execution_count": 76,
     "metadata": {},
     "output_type": "execute_result"
    }
   ],
   "source": [
    "len(train_df)"
   ]
  },
  {
   "cell_type": "code",
   "execution_count": 77,
   "metadata": {
    "collapsed": false
   },
   "outputs": [
    {
     "data": {
      "text/plain": [
       "0.95173433695656462"
      ]
     },
     "execution_count": 77,
     "metadata": {},
     "output_type": "execute_result"
    }
   ],
   "source": [
    "train_X = train_df[ ['TotalPay', 'JobTitle'] ]\n",
    "train_y = train_df.TotalPayBenefits\n",
    "\n",
    "model = linear_model.LinearRegression()\n",
    "cross_validation.cross_val_score(model, train_X, train_y, cv = 10).mean()"
   ]
  },
  {
   "cell_type": "code",
   "execution_count": 78,
   "metadata": {
    "collapsed": true
   },
   "outputs": [],
   "source": [
    "def linear_modeling_with_sklearn(X, y):\n",
    "    model = linear_model.LinearRegression()\n",
    "    model.fit(X, y)\n",
    "\n",
    "    print 'R^2 =', model.score(X, y)\n",
    "    print 'Coefficients'\n",
    "    print '- beta_0 (intercept) =', model.intercept_\n",
    "    print '- beta_n (n > 0)     =', model.coef_\n",
    "\n",
    "    return model"
   ]
  },
  {
   "cell_type": "code",
   "execution_count": 79,
   "metadata": {
    "collapsed": false
   },
   "outputs": [
    {
     "name": "stdout",
     "output_type": "stream",
     "text": [
      "R^2 = 0.951747350895\n",
      "Coefficients\n",
      "- beta_0 (intercept) = 1740.21958961\n",
      "- beta_n (n > 0)     = [ 1.21584428  0.01750271]\n"
     ]
    }
   ],
   "source": [
    "train_X = train_df[ ['TotalPay', 'JobTitle'] ]\n",
    "train_y = train_df.TotalPayBenefits\n",
    "\n",
    "model = linear_modeling_with_sklearn(train_X, train_y)"
   ]
  },
  {
   "cell_type": "markdown",
   "metadata": {},
   "source": [
    "## Desicion Trees"
   ]
  },
  {
   "cell_type": "code",
   "execution_count": 88,
   "metadata": {
    "collapsed": false
   },
   "outputs": [],
   "source": [
    "df = df[df.EmployeeName.str.contains(\"ANA SAMPERA\") == False]\n",
    "df = df[df.Benefits.str.contains(\"Not Provided\") == False]\n",
    "df = df[df.OvertimePay.str.contains(\"Not Provided\") == False]\n",
    "df = df[df.JobTitle.str.contains(\"Not Provided\") == False]\n",
    "df.drop('EmployeeName', axis=1, inplace=True)\n",
    "df.drop('Status', axis=1, inplace=True)\n",
    "df.drop('Agency', axis=1, inplace=True)\n",
    "df.drop('JobTitle', axis=1, inplace=True)"
   ]
  },
  {
   "cell_type": "code",
   "execution_count": 89,
   "metadata": {
    "collapsed": false
   },
   "outputs": [],
   "source": [
    "X = df[df.columns.values]\n",
    "X.drop('TotalPay', axis = 1, inplace = True)\n",
    "\n",
    "y = df.TotalPay"
   ]
  },
  {
   "cell_type": "code",
   "execution_count": 90,
   "metadata": {
    "collapsed": true
   },
   "outputs": [],
   "source": [
    "train_X, test_X, train_y, test_y = cross_validation.train_test_split(X, y, test_size = 0.4)"
   ]
  },
  {
   "cell_type": "code",
   "execution_count": 91,
   "metadata": {
    "collapsed": false
   },
   "outputs": [
    {
     "data": {
      "text/plain": [
       "DecisionTreeRegressor(criterion='mse', max_depth=None, max_features=None,\n",
       "           max_leaf_nodes=None, min_samples_leaf=1, min_samples_split=2,\n",
       "           min_weight_fraction_leaf=0.0, presort=False, random_state=None,\n",
       "           splitter='best')"
      ]
     },
     "execution_count": 91,
     "metadata": {},
     "output_type": "execute_result"
    }
   ],
   "source": [
    "model = tree.DecisionTreeRegressor()\n",
    "\n",
    "model.fit(train_X, train_y)"
   ]
  },
  {
   "cell_type": "code",
   "execution_count": 92,
   "metadata": {
    "collapsed": false
   },
   "outputs": [
    {
     "data": {
      "text/plain": [
       "0.99911874385492838"
      ]
     },
     "execution_count": 92,
     "metadata": {},
     "output_type": "execute_result"
    }
   ],
   "source": [
    "cross_validation.cross_val_score(model, train_X, train_y, cv = 10).mean()"
   ]
  },
  {
   "cell_type": "code",
   "execution_count": 93,
   "metadata": {
    "collapsed": false
   },
   "outputs": [
    {
     "name": "stdout",
     "output_type": "stream",
     "text": [
      "2.55874216191e-13\n",
      "633.33687082\n"
     ]
    }
   ],
   "source": [
    "train_y_hat = model.predict(train_X)\n",
    "print np.sqrt(metrics.mean_squared_error(train_y, train_y_hat))\n",
    "\n",
    "test_y_hat = model.predict(test_X)\n",
    "print np.sqrt(metrics.mean_squared_error(test_y, test_y_hat))"
   ]
  },
  {
   "cell_type": "code",
   "execution_count": 94,
   "metadata": {
    "collapsed": false
   },
   "outputs": [
    {
     "data": {
      "text/plain": [
       "0.99927422698631019"
      ]
     },
     "execution_count": 94,
     "metadata": {},
     "output_type": "execute_result"
    }
   ],
   "source": [
    "model.score(test_X, test_y)"
   ]
  },
  {
   "cell_type": "code",
   "execution_count": null,
   "metadata": {
    "collapsed": true
   },
   "outputs": [],
   "source": [
    "## the model that has high significant levels as we see through the test and train data score"
   ]
  }
 ],
 "metadata": {
  "kernelspec": {
   "display_name": "Python 2",
   "language": "python",
   "name": "python2"
  },
  "language_info": {
   "codemirror_mode": {
    "name": "ipython",
    "version": 2
   },
   "file_extension": ".py",
   "mimetype": "text/x-python",
   "name": "python",
   "nbconvert_exporter": "python",
   "pygments_lexer": "ipython2",
   "version": "2.7.11"
  }
 },
 "nbformat": 4,
 "nbformat_minor": 0
}
